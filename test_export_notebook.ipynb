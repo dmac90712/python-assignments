{
 "cells": [
  {
   "cell_type": "markdown",
   "id": "31996a79",
   "metadata": {},
   "source": [
    "# Test Notebook\n",
    "This is a sample notebook to test PDF export."
   ]
  },
  {
   "cell_type": "code",
   "execution_count": 1,
   "id": "7f9e9a81",
   "metadata": {},
   "outputs": [
    {
     "data": {
      "text/plain": [
       "25"
      ]
     },
     "execution_count": 1,
     "metadata": {},
     "output_type": "execute_result"
    }
   ],
   "source": [
    "x = 5\n",
    "x ** 2"
   ]
  },
  {
   "cell_type": "markdown",
   "id": "02b66c88",
   "metadata": {},
   "source": [
    "If this exports successfully, your PDF setup is working."
   ]
  }
 ],
 "metadata": {
  "kernelspec": {
   "display_name": "Python (Jupyter Clean)",
   "language": "python",
   "name": "jupyter_env"
  },
  "language_info": {
   "codemirror_mode": {
    "name": "ipython",
    "version": 3
   },
   "file_extension": ".py",
   "mimetype": "text/x-python",
   "name": "python",
   "nbconvert_exporter": "python",
   "pygments_lexer": "ipython3",
   "version": "3.11.11"
  }
 },
 "nbformat": 4,
 "nbformat_minor": 5
}
