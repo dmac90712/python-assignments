{
 "cells": [
  {
   "attachments": {},
   "cell_type": "markdown",
   "metadata": {
    "id": "_iaXDd2j9axp"
   },
   "source": [
    "# Module 6 KNN Assignment\n",
    "\n",
    "\n"
   ]
  },
  {
   "attachments": {},
   "cell_type": "markdown",
   "metadata": {
    "id": "3f6t0yYBhCsm"
   },
   "source": [
    "## 1st Review Demo Code Provided \n",
    "## 2nd Follow the below instructions to code your KNN model "
   ]
  },
  {
   "attachments": {},
   "cell_type": "markdown",
   "metadata": {
    "id": "oZZT5pJqia_E"
   },
   "source": [
    "### Import required Python Libraries for Lab"
   ]
  },
  {
   "cell_type": "code",
   "execution_count": null,
   "metadata": {
    "id": "J697Qi0eizBL"
   },
   "outputs": [],
   "source": [
    "import pandas as pd\n",
    "import numpy as np\n",
    "import matplotlib.pyplot as plt\n",
    "from sklearn import datasets, model_selection"
   ]
  },
  {
   "attachments": {},
   "cell_type": "markdown",
   "metadata": {},
   "source": [
    "## KNN Demo Code:"
   ]
  },
  {
   "attachments": {},
   "cell_type": "markdown",
   "metadata": {
    "id": "4hSqHdxjid5M"
   },
   "source": [
    "### Load the Cancer Dataset\n",
    "\n",
    "The following dataset is from the [UCI ML Breast Cancer Wisconsin (Diagnostic) dataset](https://archive.ics.uci.edu/ml/datasets/breast+cancer+wisconsin+(diagnostic)). The dataset includes mammography exam results and cancer reslts."
   ]
  },
  {
   "cell_type": "code",
   "execution_count": null,
   "metadata": {
    "colab": {
     "base_uri": "https://localhost:8080/",
     "height": 522
    },
    "id": "3X4RLiyYizVx",
    "outputId": "d8bce9ec-f261-4c67-e76c-ca856118a69d"
   },
   "outputs": [],
   "source": [
    "cancer_dataset = datasets.load_breast_cancer()\n",
    "df = pd.DataFrame(data=cancer_dataset.data, columns=cancer_dataset.feature_names)\n",
    "df['TARGET'] = cancer_dataset.target\n",
    "df"
   ]
  },
  {
   "attachments": {},
   "cell_type": "markdown",
   "metadata": {
    "id": "Lf5OrHhNifXL"
   },
   "source": [
    "### Selecting Features \n",
    "\n",
    "To streamline our KNN model fitting process, we'll use the \"mean radius\" and \"mean texture\" features to train our classifier for predicting the presence of breast cancer in patients."
   ]
  },
  {
   "cell_type": "code",
   "execution_count": null,
   "metadata": {
    "colab": {
     "base_uri": "https://localhost:8080/",
     "height": 424
    },
    "id": "uU0u-IaDizsR",
    "outputId": "1b3cd2b7-f8c4-43f1-ecba-4e212520e12b"
   },
   "outputs": [],
   "source": [
    "# Let's slice our dataset to focus only on the features we'll be utilizing.\n",
    "df[[\"mean radius\",\"mean texture\", \"TARGET\"]]"
   ]
  },
  {
   "attachments": {},
   "cell_type": "markdown",
   "metadata": {
    "id": "q_eLEi5MiiPb"
   },
   "source": [
    "### Visualization of Features\n",
    "\n",
    "As we're developing a classifier, it may prove helpful to examine some of the features/variables. In the following analysis, we'll investigate the relationship between \"mean radius\" and \"mean texture\" and their potential correlation with cancer detection."
   ]
  },
  {
   "cell_type": "code",
   "execution_count": null,
   "metadata": {
    "colab": {
     "base_uri": "https://localhost:8080/",
     "height": 404
    },
    "id": "BxDxSgcoi0Kg",
    "outputId": "35b40273-d751-474c-dfa5-f642cd5e00a1"
   },
   "outputs": [],
   "source": [
    "plt.figure(figsize=(10,6))\n",
    "plt.scatter(df[\"mean radius\"], df[\"mean texture\"], c=df[\"TARGET\"])\n",
    "plt.title(\"Mean texture and radius colored by detection of Cancer\")\n",
    "plt.xlabel(\"mean radius\")\n",
    "plt.ylabel(\"mean texture\")\n",
    "plt.show()"
   ]
  },
  {
   "attachments": {},
   "cell_type": "markdown",
   "metadata": {
    "id": "uF-s6K6IilkM"
   },
   "source": [
    "### Split data to create two dataframes. One for training the model and the second for testing data\n"
   ]
  },
  {
   "attachments": {},
   "cell_type": "markdown",
   "metadata": {},
   "source": [
    "The train_test_split method is a function in machine learning libraries like Scikit-learn that splits a given dataset into training and testing sets. This is an essential step in the machine learning workflow, as it allows us to evaluate the performance of our model on new, unseen data.\n",
    "\n",
    "The method takes as input the feature matrix X and the target vector y that we want to split. It also takes the test_size parameter, which specifies the proportion of the dataset to include in the testing set. For example, a test_size of 0.3 means that 30% of the data will be used for testing, while the remaining 70% will be used for training.\n",
    "\n",
    "Additionally, the train_test_split method can also take other parameters such as random_state, which is used to set the random seed for reproducibility, and stratify, which ensures that the proportion of classes in the training and testing sets is the same as the proportion in the original dataset.\n",
    "\n",
    "The method returns four arrays: X_train, X_test, y_train, and y_test. The X_train and y_train arrays are used for training the model, while the X_test and y_test arrays are used for evaluating the model's performance on new, unseen data.\n",
    "\n",
    "By splitting the dataset into training and testing sets, we can train our model on one set of data and then evaluate its performance on a separate set of data, which helps us to detect overfitting and ensures that our model is able to generalize well to new, unseen data."
   ]
  },
  {
   "cell_type": "code",
   "execution_count": null,
   "metadata": {
    "colab": {
     "background_save": true
    },
    "id": "hg_kivmJi0hA"
   },
   "outputs": [],
   "source": [
    "X_train, X_test, y_train, y_test = model_selection.train_test_split(df[[\"mean radius\",\"mean texture\"]],\n",
    "                                                                    df[[\"TARGET\"]], test_size=0.2, random_state=42)"
   ]
  },
  {
   "attachments": {},
   "cell_type": "markdown",
   "metadata": {
    "id": "db-f6jRvio38"
   },
   "source": [
    "### Import an ML algorithm sklearn KNeighborsClassifier"
   ]
  },
  {
   "cell_type": "code",
   "execution_count": null,
   "metadata": {
    "id": "aZPn1IAIixnU"
   },
   "outputs": [],
   "source": [
    "# import the KNN algorithm\n",
    "from sklearn.neighbors import KNeighborsClassifier"
   ]
  },
  {
   "attachments": {},
   "cell_type": "markdown",
   "metadata": {
    "id": "llzcCUibmVGM"
   },
   "source": [
    "### Initialize the Model\n",
    "\n",
    "We are setting the hyperparameter `n_neighbors` to 4. \n",
    "This number can be changed. Different n_neighbor values can change the accurancy of the model. Give it a try! Change n_neighbor!\n",
    "\n",
    "The line model = KNeighborsClassifier(n_neighbors = 4) creates an instance of the KNeighborsClassifier class from the Scikit-learn machine learning library and assigns it to the variable model.\n",
    "\n",
    "The KNeighborsClassifier is a type of supervised learning algorithm used for classification tasks. It works by finding the k nearest neighbors to a given data point in the feature space and assigning the class label of the majority of those neighbors to the data point being classified. The value of k is specified by the n_neighbors parameter, which is set to 4 in this example.\n",
    "\n",
    "By creating an instance of the KNeighborsClassifier class with n_neighbors = 4, we're initializing a model that will classify data points by considering the class labels of their four nearest neighbors in the feature space. We can then use this model to make predictions on new, unseen data."
   ]
  },
  {
   "cell_type": "code",
   "execution_count": null,
   "metadata": {
    "id": "Xr0JvwcgDYKr"
   },
   "outputs": [],
   "source": [
    "# Initialize the Model\n",
    "model = KNeighborsClassifier(n_neighbors = 4)"
   ]
  },
  {
   "attachments": {},
   "cell_type": "markdown",
   "metadata": {
    "id": "5o8GxzmYDdv3"
   },
   "source": [
    "### Fit the new model. \n",
    "\n",
    "The line model.fit(X_train, y_train) trains the KNeighborsClassifier model created earlier using the training set X_train and corresponding target variable y_train.\n",
    "\n",
    "The fit() method is a built-in method of the Scikit-learn estimator objects, including the KNeighborsClassifier class. It takes the feature matrix X_train and target vector y_train as input and fits the model to the training data by calculating the distance between each data point and its k nearest neighbors in the feature space.\n",
    "\n",
    "During the training process, the model adjusts its internal parameters (i.e., weights or coefficients) to minimize the difference between the predicted values and the actual target values in the training set. This process is known as parameter estimation or model training.\n",
    "\n",
    "After the training is complete, the model object stores the learned parameters, which can be used to make predictions on new, unseen data using the predict() method."
   ]
  },
  {
   "cell_type": "code",
   "execution_count": null,
   "metadata": {
    "id": "pY5PiwS8gnZH"
   },
   "outputs": [],
   "source": [
    "# Fit the model\n",
    "model.fit(X_train, y_train)"
   ]
  },
  {
   "attachments": {},
   "cell_type": "markdown",
   "metadata": {},
   "source": [
    "### Test the model by making a prediction\n",
    "\n",
    "The line pred = model.predict(X_test) uses the trained KNeighborsClassifier model to make predictions on the test set X_test and assigns the predicted values to the pred variable.\n",
    "\n",
    "The predict() method is a built-in method of the Scikit-learn estimator objects, including the KNeighborsClassifier class. It takes the feature matrix X_test as input and returns the predicted target values based on the learned parameters of the model.\n",
    "\n",
    "In other words, for each data point in the test set, the predict() method uses the internal parameters of the trained model to classify the data point based on the class labels of its k nearest neighbors in the feature space. It then returns the predicted target value for that data point.\n",
    "\n",
    "After the predictions have been made for the test set, the predicted values are assigned to the pred variable for later analysis and evaluation of the model's performance on the test set."
   ]
  },
  {
   "cell_type": "code",
   "execution_count": null,
   "metadata": {
    "id": "dMEVWZ33DcSh"
   },
   "outputs": [],
   "source": [
    "# Predict\n",
    "pred = model.predict(X_test)"
   ]
  },
  {
   "attachments": {},
   "cell_type": "markdown",
   "metadata": {
    "id": "24h5chNSDQpE"
   },
   "source": [
    "### Visualize Data and boundary\n",
    "\n",
    "A colormesh plot to show the decision boundary of the KNN model.\n"
   ]
  },
  {
   "cell_type": "code",
   "execution_count": null,
   "metadata": {
    "id": "hBJuUD2Lr6l3"
   },
   "outputs": [],
   "source": [
    "# Make the same scatter plot of the training data\n",
    "\n",
    "fig, ax = plt.subplots(figsize=(10,6))\n",
    "\n",
    "xx, yy = np.meshgrid(np.arange(6, 30, 0.1),\n",
    "                     np.arange(6, 42, 0.1))\n",
    "z = model.predict(np.c_[xx.ravel(), yy.ravel()])\n",
    "z = z.reshape(xx.shape)\n",
    "\n",
    "ax.pcolormesh(xx, yy, z, alpha=0.1)\n",
    "\n",
    "for label, data in df.groupby('TARGET'):\n",
    "  ax.scatter(data[\"mean radius\"], data[\"mean texture\"], label=[\"Cancerous\",\"Healthy\"][label])\n",
    "\n",
    "ax.set_title(\"Decision Boundary of the KNN Classifier\")\n",
    "ax.set_xlabel(\"mean radius\")\n",
    "ax.set_ylabel(\"mean texture\")\n",
    "ax.legend()\n",
    "plt.show()"
   ]
  },
  {
   "attachments": {},
   "cell_type": "markdown",
   "metadata": {
    "id": "s3N1FnHlLy5n"
   },
   "source": [
    "### The below code test the accuracy the model\n",
    "\n",
    "This code block is used to evaluate the performance of the trained KNeighborsClassifier model on the test set, specifically by computing the mean squared error, accuracy score, and classification report.\n",
    "\n",
    "mean_squared_error(y_test, pred) computes the mean squared error between the true target values in the test set y_test and the predicted values pred. This metric measures the average squared difference between the predicted and true values, and a lower value indicates better performance.\n",
    "\n",
    "accuracy_score(y_test, pred) computes the accuracy of the model by comparing the predicted target values pred with the true target values in the test set y_test. The accuracy is the proportion of correctly classified samples, and a higher value indicates better performance.\n",
    "\n",
    "classification_report(y_test, pred) generates a text report that summarizes the precision, recall, and F1-score for each class in the target variable. This report provides a more detailed evaluation of the model's performance on each class.\n",
    "\n",
    "By printing these metrics, we can evaluate the performance of the model on the test set and determine how well it is able to generalize to new, unseen data. These metrics can be used to compare different models and select the best one for the task at hand."
   ]
  },
  {
   "cell_type": "code",
   "execution_count": null,
   "metadata": {
    "id": "AHcYv6SGLzAe"
   },
   "outputs": [],
   "source": [
    "# Evaluation of accuracy\n",
    "from sklearn.metrics import mean_squared_error, classification_report, accuracy_score\n",
    "print('Mean squared error: ', mean_squared_error(y_test, pred))\n",
    "print(\"Accuracy Score: \", accuracy_score(y_test, pred))\n",
    "print(classification_report(y_test, pred))"
   ]
  },
  {
   "attachments": {},
   "cell_type": "markdown",
   "metadata": {
    "id": "UqhuMqqCQy59"
   },
   "source": [
    "### Use the Model with new data\n"
   ]
  },
  {
   "attachments": {},
   "cell_type": "markdown",
   "metadata": {
    "id": "R9xlEZO3klwe"
   },
   "source": [
    "1. Given a patient with a mean radius of 14.2 and a mean texture of 30.3, is it probable that the patient has breast cancer?\n",
    "2. Would a patient with a mean radius of 11.2 and a mean texture of 33.6 be likely to have breast cancer?\n"
   ]
  },
  {
   "cell_type": "code",
   "execution_count": null,
   "metadata": {
    "id": "E1h3GyVJkksp"
   },
   "outputs": [],
   "source": [
    "patient1 = pd.DataFrame([[14.2, 30.3]], columns=[\"mean radius\", \"mean texture\"])\n",
    "prediction = model.predict(patient1)[0]\n",
    "print(f\"Patient 1 {['is likely', 'is not likely'][prediction]} to have cancer\")\n",
    "\n",
    "patient2 = pd.DataFrame([[11.2, 33.6]], columns=[\"mean radius\", \"mean texture\"])\n",
    "prediction = model.predict(patient2)[0]\n",
    "print(f\"Patient 2 {['is likely', 'is not likely'][prediction]} have cancer\")"
   ]
  },
  {
   "attachments": {},
   "cell_type": "markdown",
   "metadata": {
    "id": "A0CMPq525kSi"
   },
   "source": [
    "## Module 6 Assignment: Your Turn KNN\n"
   ]
  },
  {
   "attachments": {},
   "cell_type": "markdown",
   "metadata": {
    "id": "OF427cj17DPJ"
   },
   "source": [
    "### Import the below required Python Libraries"
   ]
  },
  {
   "cell_type": "code",
   "execution_count": null,
   "metadata": {
    "id": "6i2cfVjB7DPK"
   },
   "outputs": [],
   "source": [
    "import pandas as pd\n",
    "import numpy as np\n",
    "import matplotlib.pyplot as plt\n",
    "\n",
    "from sklearn import datasets, model_selection"
   ]
  },
  {
   "attachments": {},
   "cell_type": "markdown",
   "metadata": {
    "id": "muJ_G2aN7DPL"
   },
   "source": [
    "### Load the UCI Wine Dataset\n",
    "\n",
    "The given dataset is sourced from the UCI ML Wine Recognition dataset and presents the outcomes of a chemical analysis of wines that were grown in the same area in Italy using three distinct grape cultivars. Your task is to create a new column TARGET that corresponds to the target column of the load_wine() data and to construct a model that can forecast the cultivar (grape type) that the wine was produced from."
   ]
  },
  {
   "cell_type": "code",
   "execution_count": null,
   "metadata": {
    "id": "l5THwlbk7DPL"
   },
   "outputs": [],
   "source": [
    "wine_dataset = datasets.load_wine()\n",
    "\n",
    "df = pd.DataFrame(data=wine_dataset.data, columns=wine_dataset.feature_names)\n",
    "df['TARGET'] = wine_dataset.target\n",
    "df"
   ]
  },
  {
   "attachments": {},
   "cell_type": "markdown",
   "metadata": {
    "id": "aHGxhDgq7DPL"
   },
   "source": [
    "### Feature Selection\n",
    "\n",
    "To simplify the model, train the KNN classifier by utilizing the features of \"malic_acid\" and \"color_intensity\". This will aid in predicting the grape cultivar that the wine has originated from."
   ]
  },
  {
   "cell_type": "code",
   "execution_count": null,
   "metadata": {
    "id": "9xpb23gQ7DPM"
   },
   "outputs": [],
   "source": [
    "# Use pandas to extract the features we care about\n",
    "# ADD CODE HERE"
   ]
  },
  {
   "attachments": {},
   "cell_type": "markdown",
   "metadata": {
    "id": "iS6MoP_a7DPM"
   },
   "source": [
    "### Visualize the features selected for model \n",
    "\n",
    "Create a scatter() graph of the features, `\"malic acid\"` and  `\"color intensity\"`, and see if there is a correlation with the cultivar number.\n",
    "\n",
    "Use the `c` value color the dots by target class."
   ]
  },
  {
   "cell_type": "code",
   "execution_count": null,
   "metadata": {
    "id": "aFfdhyr9LHoP"
   },
   "outputs": [],
   "source": [
    "# ADD CODE HERE\n"
   ]
  },
  {
   "attachments": {},
   "cell_type": "markdown",
   "metadata": {
    "id": "p-TPKXkc7DPN"
   },
   "source": [
    "### Split dataset into training and testing data\n",
    "\n"
   ]
  },
  {
   "cell_type": "code",
   "execution_count": null,
   "metadata": {
    "id": "hOgiGtRb7DPN"
   },
   "outputs": [],
   "source": [
    "# Sample Code provided - Add the features and target \n",
    "# X_train, X_test, y_train, y_test = model_selection.train_test_split(df[[ADD CODE HERE]],df[[ADD CODE HERE]], test_size=0.2, random_state=42)"
   ]
  },
  {
   "attachments": {},
   "cell_type": "markdown",
   "metadata": {
    "id": "HSEGvtgg7DPN"
   },
   "source": [
    "### Import Sklearn Algorithms KNeighborsClassifier\n",
    " "
   ]
  },
  {
   "cell_type": "code",
   "execution_count": null,
   "metadata": {
    "id": "HAkeHOOF7DPO"
   },
   "outputs": [],
   "source": [
    "# import the KNN algorithm\n",
    "# ADD CODE HERE"
   ]
  },
  {
   "attachments": {},
   "cell_type": "markdown",
   "metadata": {
    "id": "Six2Ncs-7DPO"
   },
   "source": [
    "### Initialize the Model\n",
    "\n",
    "Set hyperparameter `n_neighbors = 4`."
   ]
  },
  {
   "cell_type": "code",
   "execution_count": null,
   "metadata": {
    "id": "JXUG35A67DPO"
   },
   "outputs": [],
   "source": [
    "# ADD CODE HERE"
   ]
  },
  {
   "attachments": {},
   "cell_type": "markdown",
   "metadata": {
    "id": "u8FiNAc57DPO"
   },
   "source": [
    "### Fit the Model Hint: fit()"
   ]
  },
  {
   "cell_type": "code",
   "execution_count": null,
   "metadata": {
    "id": "KtOcreIC7DPO"
   },
   "outputs": [],
   "source": [
    "# ADD CODE HERE"
   ]
  },
  {
   "cell_type": "code",
   "execution_count": null,
   "metadata": {
    "id": "0DxxdHgc7DPP"
   },
   "outputs": [],
   "source": [
    "# Use predict() on model\n",
    "# ADD CODE HERE"
   ]
  },
  {
   "attachments": {},
   "cell_type": "markdown",
   "metadata": {
    "id": "V8GbHU7-7DPP"
   },
   "source": [
    "### Use the provided code to test the accuracy\n",
    "\n",
    "Display the:\n",
    "`mean_squared_error`, `classification_report`, and `accuracy_score`.\n",
    "\n",
    "### ADD COMMENT HERE: Explain the below code."
   ]
  },
  {
   "cell_type": "code",
   "execution_count": null,
   "metadata": {
    "id": "PbioEmIm7DPP"
   },
   "outputs": [],
   "source": [
    "# Evaluation of accuracy\n",
    "from sklearn.metrics import mean_squared_error, classification_report, accuracy_score\n",
    "\n",
    " \n",
    "print('Mean squared error: ', mean_squared_error(y_test, pred))\n",
    "print(\"Accuracy Score: \", accuracy_score(y_test, pred))\n",
    "print(classification_report(y_test, pred))"
   ]
  },
  {
   "attachments": {},
   "cell_type": "markdown",
   "metadata": {
    "id": "hc4AUwfl7DPP"
   },
   "source": [
    "### Use your new model\n"
   ]
  },
  {
   "attachments": {},
   "cell_type": "markdown",
   "metadata": {
    "id": "9C37PQARNMPP"
   },
   "source": [
    "Which cultivated probably created a wine with `malic_acid = 4.1` and `color_intensity = 1.1` ?"
   ]
  },
  {
   "cell_type": "code",
   "execution_count": null,
   "metadata": {
    "id": "MDxYwA2K7DPQ"
   },
   "outputs": [],
   "source": [
    "# Sample Code\n",
    "wine1 = pd.DataFrame([[4.1, 1.1]], columns=[\"malic_acid\", \"color_intensity\"])\n",
    "prediction = model.predict(wine1)[0]\n",
    "print(f\"Wine 1 {['cultivator 1', 'cultivator 2','cultivator 3'][prediction]} \")"
   ]
  },
  {
   "attachments": {},
   "cell_type": "markdown",
   "metadata": {},
   "source": [
    "Which cultivated probably created a wine with `malic_acid = 5.3` and `color_intensity = 8.1` ?"
   ]
  },
  {
   "cell_type": "code",
   "execution_count": null,
   "metadata": {},
   "outputs": [],
   "source": [
    "# ADD CODE HERE"
   ]
  }
 ],
 "metadata": {
  "colab": {
   "collapsed_sections": [],
   "name": "AWS_Train_PD_Lab_1_6.ipynb",
   "provenance": []
  },
  "kernelspec": {
   "display_name": "base",
   "language": "python",
   "name": "python3"
  },
  "language_info": {
   "codemirror_mode": {
    "name": "ipython",
    "version": 3
   },
   "file_extension": ".py",
   "mimetype": "text/x-python",
   "name": "python",
   "nbconvert_exporter": "python",
   "pygments_lexer": "ipython3",
   "version": "3.11.0"
  }
 },
 "nbformat": 4,
 "nbformat_minor": 4
}
