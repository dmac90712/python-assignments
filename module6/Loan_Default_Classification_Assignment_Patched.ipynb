{
 "cells": [
  {
   "cell_type": "markdown",
   "id": "a939a956",
   "metadata": {},
   "source": [
    "# 🧠 Loan Default Classification Project"
   ]
  },
  {
   "cell_type": "markdown",
   "id": "19ddfe8d",
   "metadata": {},
   "source": [
    "## Logistic Regression with Cleaned Data and P-Values"
   ]
  },
  {
   "cell_type": "code",
   "execution_count": 1,
   "id": "d9e9b667",
   "metadata": {},
   "outputs": [
    {
     "ename": "NameError",
     "evalue": "name 'X_train' is not defined",
     "output_type": "error",
     "traceback": [
      "\u001b[31m---------------------------------------------------------------------------\u001b[39m",
      "\u001b[31mNameError\u001b[39m                                 Traceback (most recent call last)",
      "\u001b[36mCell\u001b[39m\u001b[36m \u001b[39m\u001b[32mIn[1]\u001b[39m\u001b[32m, line 7\u001b[39m\n\u001b[32m      3\u001b[39m \u001b[38;5;28;01mimport\u001b[39;00m\u001b[38;5;250m \u001b[39m\u001b[34;01mstatsmodels\u001b[39;00m\u001b[34;01m.\u001b[39;00m\u001b[34;01mapi\u001b[39;00m\u001b[38;5;250m \u001b[39m\u001b[38;5;28;01mas\u001b[39;00m\u001b[38;5;250m \u001b[39m\u001b[34;01msm\u001b[39;00m\n\u001b[32m      5\u001b[39m \u001b[38;5;66;03m# Assume X_train and y_train already exist from previous steps\u001b[39;00m\n\u001b[32m      6\u001b[39m \u001b[38;5;66;03m# Convert all to numeric and drop columns with NaNs\u001b[39;00m\n\u001b[32m----> \u001b[39m\u001b[32m7\u001b[39m X_numeric = \u001b[43mX_train\u001b[49m.apply(pd.to_numeric, errors=\u001b[33m'\u001b[39m\u001b[33mcoerce\u001b[39m\u001b[33m'\u001b[39m).dropna(axis=\u001b[32m1\u001b[39m)\n\u001b[32m      8\u001b[39m y_numeric = pd.to_numeric(y_train, errors=\u001b[33m'\u001b[39m\u001b[33mcoerce\u001b[39m\u001b[33m'\u001b[39m)\n\u001b[32m     10\u001b[39m \u001b[38;5;66;03m# Combine and drop rows with any NaNs\u001b[39;00m\n",
      "\u001b[31mNameError\u001b[39m: name 'X_train' is not defined"
     ]
    }
   ],
   "source": [
    "\n",
    "import pandas as pd\n",
    "import numpy as np\n",
    "import statsmodels.api as sm\n",
    "\n",
    "# Assume X_train and y_train already exist from previous steps\n",
    "# Convert all to numeric and drop columns with NaNs\n",
    "X_numeric = X_train.apply(pd.to_numeric, errors='coerce').dropna(axis=1)\n",
    "y_numeric = pd.to_numeric(y_train, errors='coerce')\n",
    "\n",
    "# Combine and drop rows with any NaNs\n",
    "df_combined = pd.concat([X_numeric, y_numeric.rename(\"TARGET\")], axis=1).dropna()\n",
    "\n",
    "# Final X and y as numpy arrays\n",
    "X_final = df_combined.drop(columns=\"TARGET\").to_numpy()\n",
    "y_final = df_combined[\"TARGET\"].to_numpy()\n",
    "\n",
    "# Add constant\n",
    "X_final_sm = sm.add_constant(X_final, has_constant='add')\n",
    "\n",
    "# Fit model\n",
    "logit_model = sm.Logit(y_final, X_final_sm)\n",
    "result = logit_model.fit()\n",
    "\n",
    "# Output summary\n",
    "print(result.summary())\n"
   ]
  }
 ],
 "metadata": {
  "kernelspec": {
   "display_name": "Python (Jupyter Clean)",
   "language": "python",
   "name": "jupyter_env"
  },
  "language_info": {
   "codemirror_mode": {
    "name": "ipython",
    "version": 3
   },
   "file_extension": ".py",
   "mimetype": "text/x-python",
   "name": "python",
   "nbconvert_exporter": "python",
   "pygments_lexer": "ipython3",
   "version": "3.11.11"
  }
 },
 "nbformat": 4,
 "nbformat_minor": 5
}
