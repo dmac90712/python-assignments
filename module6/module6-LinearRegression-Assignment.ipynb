{
 "cells": [
  {
   "attachments": {},
   "cell_type": "markdown",
   "metadata": {
    "id": "mbZXQ3rA3NwL"
   },
   "source": [
    "# Module 6: Linear Regression Assignment"
   ]
  },
  {
   "attachments": {},
   "cell_type": "markdown",
   "metadata": {
    "id": "6VBmscL2Kl72"
   },
   "source": [
    "### These are the typical steps for using a machine learning model:\n",
    "\n",
    "1. Import the dataset you want to analyze.\n",
    "2. Identify which features you want to use as predictors (X values) and which feature you want to predict (y value).\n",
    "3. Split the dataset into training and testing sets.\n",
    "4. Choose an appropriate machine learning algorithm for your task.\n",
    "5. Initialize the model by setting its hyperparameters.\n",
    "6. Train the model on the training set.\n",
    "7. Visualize the model (if applicable).\n",
    "8. Test the model on the testing set and evaluate its performance.\n",
    "9. Use the trained model to make predictions on new data."
   ]
  },
  {
   "attachments": {},
   "cell_type": "markdown",
   "metadata": {
    "id": "3f6t0yYBhCsm"
   },
   "source": [
    "## Demo Code: Linear Regression"
   ]
  },
  {
   "attachments": {},
   "cell_type": "markdown",
   "metadata": {
    "id": "oZZT5pJqia_E"
   },
   "source": [
    "### Import required Python Libraries for Lab"
   ]
  },
  {
   "cell_type": "code",
   "execution_count": null,
   "metadata": {
    "id": "J697Qi0eizBL"
   },
   "outputs": [],
   "source": [
    "import pandas as pd\n",
    "import numpy as np\n",
    "import os, ssl \n",
    "import matplotlib.pyplot as plt\n",
    "\n",
    "from sklearn import datasets, model_selection, linear_model\n",
    "from sklearn.metrics import mean_squared_error, mean_absolute_error, r2_score\n",
    "from sklearn.datasets import fetch_california_housing\n",
    "from sklearn.model_selection import train_test_split\n",
    "from sklearn.preprocessing import StandardScaler\n"
   ]
  },
  {
   "attachments": {},
   "cell_type": "markdown",
   "metadata": {
    "id": "4hSqHdxjid5M"
   },
   "source": [
    "### Load the data\n",
    "\n",
    "The following dataset contains information on California Housing Prices. California Housing Prices dataset contains information on housing prices in various regions of California, along with a set of features that describe each region. The dataset has a total of 20,640 instances, each with 8 features and a corresponding target value.\n",
    "\n"
   ]
  },
  {
   "attachments": {},
   "cell_type": "markdown",
   "metadata": {
    "id": "vJc6J4UBkVsA"
   },
   "source": [
    "The features in the dataset are as follows:\n",
    "\n",
    "1. MedInc: median income of the households in the region.\n",
    "2. HouseAge: median age of the houses in the region.\n",
    "3. AveRooms: average number of rooms per house in the region.\n",
    "4. AveBedrms: average number of bedrooms per house in the region.\n",
    "5. Population: total number of people living in the region.\n",
    "6. AveOccup: average number of people per household in the region.\n",
    "7. Latitude: latitude of the region's location.\n",
    "8. Longitude: longitude of the region's location.\n",
    "\n",
    "The target variable in the dataset is the median house value in units of $100,000 for each region. This is the value that we want to predict using the features in the dataset. The target values range from 0.15 to 5.00, indicating that the dataset includes regions with a wide range of housing prices.\n",
    "\n",
    "It's worth noting that the California Housing Prices dataset is often used as a benchmark for regression models, as it contains a diverse set of features and a relatively large number of instances. However, it's important to keep in mind that the dataset has its own limitations and potential biases, and it's important to evaluate any models trained on this dataset in the context of your research question and goals.\n"
   ]
  },
  {
   "attachments": {},
   "cell_type": "markdown",
   "metadata": {
    "id": "x4Xdr0GmO3Wj"
   },
   "source": [
    "### Load the California Housing Prices dataset "
   ]
  },
  {
   "attachments": {},
   "cell_type": "markdown",
   "metadata": {},
   "source": [
    "In this code, we first use the fetch_california_housing() function from scikit-learn to load the California housing dataset as a pandas DataFrame (california.frame)."
   ]
  },
  {
   "cell_type": "code",
   "execution_count": null,
   "metadata": {
    "colab": {
     "base_uri": "https://localhost:8080/",
     "height": 1000
    },
    "id": "3X4RLiyYizVx",
    "outputId": "40f9d491-9f1c-4684-bce7-35f824e33ff3"
   },
   "outputs": [],
   "source": [
    "from sklearn.datasets import fetch_california_housing\n",
    "\n",
    "# Load the California housing dataset\n",
    "california = fetch_california_housing(as_frame=True)\n",
    "california_df = california.frame\n",
    "california_df"
   ]
  },
  {
   "cell_type": "code",
   "execution_count": null,
   "metadata": {},
   "outputs": [],
   "source": [
    "# Print the target variable\n",
    "print(california.target)"
   ]
  },
  {
   "cell_type": "code",
   "execution_count": null,
   "metadata": {},
   "outputs": [],
   "source": [
    "# Concatenate the features and target into a single DataFrame\n",
    "california_all_df = pd.concat([california_df, pd.Series(california.target, name='target')], axis=1)\n"
   ]
  },
  {
   "cell_type": "code",
   "execution_count": null,
   "metadata": {},
   "outputs": [],
   "source": [
    "# Perform exploratory data analysis\n",
    "# Histogram of target variable\n",
    "california_all_df['target'].hist(bins=100)\n",
    "plt.xlabel('Median house value ($100k)')\n",
    "plt.ylabel('Frequency')\n",
    "plt.show()"
   ]
  },
  {
   "attachments": {},
   "cell_type": "markdown",
   "metadata": {
    "id": "Lf5OrHhNifXL"
   },
   "source": [
    "### Calculate correlation \n",
    "\n",
    "We then concatenate the features and target variable into a single DataFrame (california_all_df) using the pd.concat() method. Note that we also use pd.Series() to convert the target variable from a numpy array to a pandas series and give it the name \"target\".\n",
    "\n",
    "Next, we calculate the correlation matrix between the features and the target variable using the .corr() method, and select only the correlations with the \"target\" column using the ['target'] syntax. Finally, we print the correlation coefficients for each feature."
   ]
  },
  {
   "cell_type": "code",
   "execution_count": null,
   "metadata": {
    "colab": {
     "base_uri": "https://localhost:8080/",
     "height": 424
    },
    "id": "uU0u-IaDizsR",
    "outputId": "eb5a9542-634f-4bf6-f160-252f1dd82f25"
   },
   "outputs": [],
   "source": [
    "# Concatenate the features and target into a single DataFrame\n",
    "#california_all_df = pd.concat([california_df, pd.Series(california.target, name='target')], axis=1)\n",
    "\n",
    "# Calculate the correlation matrix with the target variable\n",
    "corr_matrix = california_all_df.corr()['target']\n",
    "\n",
    "# Print the correlation coefficients\n",
    "print(corr_matrix)"
   ]
  },
  {
   "cell_type": "code",
   "execution_count": null,
   "metadata": {},
   "outputs": [],
   "source": [
    "# Preprocess the data\n",
    "# Remove outliers\n",
    "california_df = california_all_df[(california_all_df['AveRooms'] < 20) &\n",
    "                              (california_all_df['AveBedrms'] < 5) &\n",
    "                              (california_all_df['Population'] < 10000) &\n",
    "                              (california_all_df['target'] < 5)]"
   ]
  },
  {
   "attachments": {},
   "cell_type": "markdown",
   "metadata": {
    "id": "uF-s6K6IilkM"
   },
   "source": [
    "### Split data into training and testing data\n"
   ]
  },
  {
   "cell_type": "code",
   "execution_count": null,
   "metadata": {
    "id": "hg_kivmJi0hA"
   },
   "outputs": [],
   "source": [
    "# Split the data into training and testing sets\n",
    "X_train, X_test, y_train, y_test = train_test_split(california_df.drop(columns='target'), california_df['target'], test_size=0.2, random_state=42)\n"
   ]
  },
  {
   "cell_type": "code",
   "execution_count": null,
   "metadata": {},
   "outputs": [],
   "source": [
    "# Scale the data\n",
    "scaler = StandardScaler()\n",
    "X_train = scaler.fit_transform(X_train)\n",
    "X_test = scaler.transform(X_test)"
   ]
  },
  {
   "attachments": {},
   "cell_type": "markdown",
   "metadata": {
    "id": "db-f6jRvio38"
   },
   "source": [
    "### Import an ML algorithm (Using Sklearn algorithms)\n",
    " "
   ]
  },
  {
   "cell_type": "code",
   "execution_count": null,
   "metadata": {
    "id": "aZPn1IAIixnU"
   },
   "outputs": [],
   "source": [
    "# import that LinearRegression algorithm\n",
    "from sklearn.linear_model import LinearRegression"
   ]
  },
  {
   "attachments": {},
   "cell_type": "markdown",
   "metadata": {
    "id": "llzcCUibmVGM"
   },
   "source": [
    "### Initialize your model"
   ]
  },
  {
   "cell_type": "code",
   "execution_count": null,
   "metadata": {
    "id": "Xr0JvwcgDYKr"
   },
   "outputs": [],
   "source": [
    "# Fit a linear regression model\n",
    "model = LinearRegression()"
   ]
  },
  {
   "attachments": {},
   "cell_type": "markdown",
   "metadata": {
    "id": "5o8GxzmYDdv3"
   },
   "source": [
    "### Fit your model and make a prediction"
   ]
  },
  {
   "cell_type": "code",
   "execution_count": null,
   "metadata": {
    "id": "dMEVWZ33DcSh"
   },
   "outputs": [],
   "source": [
    "# fit\n",
    "model.fit(X_train, y_train)# predict\n",
    "pred = model.predict(X_test)"
   ]
  },
  {
   "cell_type": "code",
   "execution_count": null,
   "metadata": {},
   "outputs": [],
   "source": [
    "# Evaluate the model on the testing data\n",
    "y_pred = model.predict(X_test)\n",
    "mse = mean_squared_error(y_test, y_pred)\n",
    "r2 = r2_score(y_test, y_pred)\n",
    "\n",
    "print(f\"Mean squared error: {mse:.2f}\")\n",
    "print(f\"R-squared: {r2:.2f}\")"
   ]
  },
  {
   "cell_type": "code",
   "execution_count": null,
   "metadata": {},
   "outputs": [],
   "source": [
    "# Visualize predicted vs. actual target values\n",
    "plt.scatter(y_test, y_pred)\n",
    "plt.xlabel('Actual house value ($100k)')\n",
    "plt.ylabel('Predicted house value ($100k)')\n",
    "plt.show()"
   ]
  },
  {
   "attachments": {},
   "cell_type": "markdown",
   "metadata": {
    "id": "A0CMPq525kSi"
   },
   "source": [
    "## Module 6: Your Turn Linear Regression"
   ]
  },
  {
   "cell_type": "markdown",
   "metadata": {
    "id": "2uJWpTsiEO1C"
   },
   "source": [
    "This dataset contains data from diabetic patients and features such as their BMI, age , blood pressure and glucose levels that are useful in predicting the diabetes disease progression in patients. We will be looking at these variables that will be used to help predict disease progression in diabetic patients."
   ]
  },
  {
   "attachments": {},
   "cell_type": "markdown",
   "metadata": {
    "id": "p5iUBJ9h6b3x"
   },
   "source": [
    "### Load the Diabetes dataset from sklearn"
   ]
  },
  {
   "attachments": {},
   "cell_type": "markdown",
   "metadata": {
    "id": "88PIfv9d6g97"
   },
   "source": [
    "The below code will load the data. Turn this into a date frame.\n",
    "```python\n",
    "diabetes = datasets.load_diabetes()\n",
    "```\n",
    "Add a column called `TARGET` with the target data (`diabetes.target`).  In this case, the target is a measure for disease progression."
   ]
  },
  {
   "cell_type": "code",
   "execution_count": null,
   "metadata": {
    "id": "MimCkc1c6hKC"
   },
   "outputs": [],
   "source": [
    "diabetes = datasets.load_diabetes()\n",
    "\n",
    "df = pd.DataFrame(data=diabetes.data, columns=diabetes.feature_names)\n",
    "df['TARGET'] = diabetes.target\n",
    "df"
   ]
  },
  {
   "attachments": {},
   "cell_type": "markdown",
   "metadata": {
    "id": "E5z0mLEQF565"
   },
   "source": [
    "### Select features \n",
    "\n",
    "Select features to use will be used as the predictors (the X values), and which feature you want to predict (the y values)\n",
    "\n",
    "Use the `\"age\"` `\"bmi\"` and `\"bp\"` features and the `Target` as our target variable.\n",
    "\n",
    "We are building a predictor of disease progression.\n"
   ]
  },
  {
   "cell_type": "code",
   "execution_count": null,
   "metadata": {},
   "outputs": [],
   "source": [
    "# Print age bmi an dbp Column here\n",
    "# ADD CODE HERE"
   ]
  },
  {
   "attachments": {},
   "cell_type": "markdown",
   "metadata": {},
   "source": [
    "### Visualization \n",
    "\n",
    "This code is creating a scatter plot for each feature ('age', 'bmi', 'bp') against a target variable stored in a pandas DataFrame df.\n",
    "\n",
    "The first line of code sets the size of the figure to 20 units in width and 5 units in height using the figsize parameter of the figure() method of the matplotlib.pyplot module.\n",
    "\n",
    "The for loop iterates over each feature in the list features and creates a subplot for each one using the subplot() method of pyplot. The subplot is added to a 1x3 grid of subplots (1 row and len(features) columns) and is given an index of i+1, where i is the current index of the feature in the features list.\n",
    "\n",
    "The x variable is set to the values of the current feature (col) in the DataFrame df, and the y variable is set to the values of the target variable in df.\n",
    "\n",
    "Then, a scatter plot is created using the scatter() method of pyplot with x and y as its arguments. The marker style for the points is set to 'o' using the marker parameter. A title is added to each subplot with the name of the current feature using the title() method, and the x-axis and y-axis are labeled with the current feature name and 'target', respectively, using the xlabel() and ylabel() methods."
   ]
  },
  {
   "cell_type": "code",
   "execution_count": null,
   "metadata": {
    "id": "QQcn56UyGHS2"
   },
   "outputs": [],
   "source": [
    "plt.figure(figsize=(20, 5))\n",
    "\n",
    "features = [ENTER CODE HERE]\n",
    "target = df[ENTER CODE HERE]\n",
    "\n",
    "for i, col in enumerate(features):\n",
    "    plt.subplot(1, len(features) , i+1)\n",
    "    x = df[col]\n",
    "    y = target\n",
    "    plt.scatter(x, y, marker='o')\n",
    "    plt.title(col)\n",
    "    plt.xlabel(col)\n",
    "    plt.ylabel('target')"
   ]
  },
  {
   "attachments": {},
   "cell_type": "markdown",
   "metadata": {
    "id": "lMDn8ONk600c"
   },
   "source": [
    "### Split the data into train and test data\n",
    "\n",
    "Use `age`, `bmi`, and `bp` for our independent variables."
   ]
  },
  {
   "cell_type": "code",
   "execution_count": null,
   "metadata": {
    "id": "DcPqQ3sb64l9"
   },
   "outputs": [],
   "source": [
    "X_train, X_test, y_train, y_test = model_selection.train_test_split(df[[\"age\", \"bmi\", \"bp\"]], df[[\"TARGET\"]], test_size=0.2, random_state=42)"
   ]
  },
  {
   "attachments": {},
   "cell_type": "markdown",
   "metadata": {
    "id": "5ADG4KRM69dJ"
   },
   "source": [
    "### Import your model\n"
   ]
  },
  {
   "cell_type": "code",
   "execution_count": null,
   "metadata": {
    "id": "iT6gQFeLG8Ea"
   },
   "outputs": [],
   "source": [
    "# import that LinearRegression algorithm\n",
    "ADD CODE HERE"
   ]
  },
  {
   "attachments": {},
   "cell_type": "markdown",
   "metadata": {
    "id": "PFUiA67CHAMc"
   },
   "source": [
    "### Initialize your model"
   ]
  },
  {
   "cell_type": "code",
   "execution_count": null,
   "metadata": {
    "id": "2dybrAieHAoJ"
   },
   "outputs": [],
   "source": [
    "# initialize\n",
    "reg = ADD CODE HERE"
   ]
  },
  {
   "attachments": {},
   "cell_type": "markdown",
   "metadata": {
    "id": "xMnlj4W0HF9U"
   },
   "source": [
    "### Fit your model and make a prediction\n",
    "The first line of code is used to train the linear regression model. X_train is a matrix containing the independent variables (also known as features) of the training data, while y_train is a vector containing the dependent variable (also known as target) of the training data. The fit() method is used to fit the linear regression model to the training data.\n",
    "\n",
    "The second line of code is used to predict the target values for the test data. X_test is a matrix containing the independent variables of the test data. The predict() method is used to predict the target values for the test data based on the trained linear regression model.\n",
    "\n",
    "Overall, these two lines of code are used to train a linear regression model using the training data and then use the trained model to predict the target values for the test data."
   ]
  },
  {
   "cell_type": "code",
   "execution_count": null,
   "metadata": {
    "id": "9bbjacst7DL5"
   },
   "outputs": [],
   "source": [
    "# fit\n",
    "#ADD CODE HERE\n",
    "\n",
    "# predict\n",
    "pred = #ADD CODE HERE"
   ]
  },
  {
   "attachments": {},
   "cell_type": "markdown",
   "metadata": {
    "id": "6DmQtTt9HNJE"
   },
   "source": [
    "### Visualize Data and Linear Regeression\n",
    "\n",
    "Use `y_test` and your `prediction` from the model to create a scatter plot. Then use the following line to visualize where a correct prediction would be.\n",
    "```\n",
    "plt.plot([0, 300], [0, 300], '--k', label=\"Correct prediction\")\n",
    "```"
   ]
  },
  {
   "cell_type": "code",
   "execution_count": null,
   "metadata": {
    "id": "ZXX56Q1rHRM-"
   },
   "outputs": [],
   "source": [
    "plt.figure(figsize=(8, 8))\n",
    "plt.scatter(ADD CODE HERE, ADD CODE HERE)\n",
    "plt.plot([0, 300], [0, 300], '--k', label=\"Correct prediction\")\n",
    "plt.axis('tight')\n",
    "plt.xlabel('X Label')\n",
    "plt.ylabel('Y Label')\n",
    "plt.title(\"Title\")\n",
    "plt.legend()\n",
    "plt.tight_layout()"
   ]
  },
  {
   "attachments": {},
   "cell_type": "markdown",
   "metadata": {
    "id": "9hqWuSqc7Tpp"
   },
   "source": [
    "### Use the following code to test the accuracy of your model"
   ]
  },
  {
   "cell_type": "code",
   "execution_count": null,
   "metadata": {
    "id": "JDOKhwf_7ZvL"
   },
   "outputs": [],
   "source": [
    "# predict target values for the test data\n",
    "pred = reg.predict(X_test)\n",
    "\n",
    "# evaluate the performance of the model\n",
    "mse = mean_squared_error(y_test, pred)\n",
    "mae = mean_absolute_error(y_test, pred)\n",
    "r2 = r2_score(y_test, pred)\n",
    "\n",
    "print(\"MSE: {:.3f}, MAE: {:.3f}, R-squared: {:.3f}\".format(mse, mae, r2))\n"
   ]
  },
  {
   "attachments": {},
   "cell_type": "markdown",
   "metadata": {
    "id": "kKm0SpTVQMkn"
   },
   "source": [
    "### Use the model\n",
    "\n",
    "Using the model you created, predict the disease progression of two new patients.\n",
    "\n",
    "Patient 1:  0.0045 `age` 0.053 `bmi` 0.014 `bp`\n",
    "\n",
    "Patient 2:  0.0039 `age` -0.012 `bmi` 0.018 `bp`\n",
    "\n",
    "Note, you must create a dataframe containing with the information of the new patients:\n",
    "\n",
    "```python\n",
    "new_patient_data = pd.DataFrame(new_patient_data_here, columns =[\"age\", \"bmi\", \"bp\"])\n",
    "```"
   ]
  },
  {
   "cell_type": "code",
   "execution_count": null,
   "metadata": {
    "id": "GTtU_xbJQ0QX"
   },
   "outputs": [],
   "source": [
    "new_patient_data = pd.DataFrame([[0.0045,0.053,0.014],[0.0039,-0.012,0.018]], columns =[\"age\", \"bmi\", \"bp\"])\n",
    "new_pat_prediction = reg.predict(new_patient_data)\n",
    "print('prediction: ', new_pat_prediction)"
   ]
  }
 ],
 "metadata": {
  "colab": {
   "collapsed_sections": [],
   "name": "AWS_Train-PD_Lab_1_5.ipynb",
   "provenance": []
  },
  "kernelspec": {
   "display_name": "Python 3",
   "language": "python",
   "name": "python3"
  },
  "language_info": {
   "codemirror_mode": {
    "name": "ipython",
    "version": 3
   },
   "file_extension": ".py",
   "mimetype": "text/x-python",
   "name": "python",
   "nbconvert_exporter": "python",
   "pygments_lexer": "ipython3",
   "version": "3.11.0"
  }
 },
 "nbformat": 4,
 "nbformat_minor": 4
}
