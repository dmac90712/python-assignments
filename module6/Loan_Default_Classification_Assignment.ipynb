{
 "cells": [
  {
   "cell_type": "markdown",
   "id": "2e1f32e3",
   "metadata": {},
   "source": [
    "# 🧠 Loan Default Classification Project"
   ]
  },
  {
   "cell_type": "markdown",
   "id": "778c623c",
   "metadata": {},
   "source": [
    "## Step 1: Load and Explore Data"
   ]
  },
  {
   "cell_type": "code",
   "execution_count": 1,
   "id": "fb138ba5",
   "metadata": {},
   "outputs": [
    {
     "name": "stdout",
     "output_type": "stream",
     "text": [
      "   SK_ID_CURR  TARGET NAME_CONTRACT_TYPE CODE_GENDER FLAG_OWN_CAR  \\\n",
      "0      100002       1         Cash loans           M            N   \n",
      "1      100003       0         Cash loans           F            N   \n",
      "2      100004       0    Revolving loans           M            Y   \n",
      "3      100006       0         Cash loans           F            N   \n",
      "4      100007       0         Cash loans           M            N   \n",
      "\n",
      "  FLAG_OWN_REALTY  CNT_CHILDREN  AMT_INCOME_TOTAL  AMT_CREDIT  AMT_ANNUITY  \\\n",
      "0               Y             0          202500.0    406597.5      24700.5   \n",
      "1               N             0          270000.0   1293502.5      35698.5   \n",
      "2               Y             0           67500.0    135000.0       6750.0   \n",
      "3               Y             0          135000.0    312682.5      29686.5   \n",
      "4               Y             0          121500.0    513000.0      21865.5   \n",
      "\n",
      "   AMT_GOODS_PRICE  \n",
      "0         351000.0  \n",
      "1        1129500.0  \n",
      "2         135000.0  \n",
      "3         297000.0  \n",
      "4         513000.0  \n",
      "<class 'pandas.core.frame.DataFrame'>\n",
      "RangeIndex: 307511 entries, 0 to 307510\n",
      "Data columns (total 11 columns):\n",
      " #   Column              Non-Null Count   Dtype  \n",
      "---  ------              --------------   -----  \n",
      " 0   SK_ID_CURR          307511 non-null  int64  \n",
      " 1   TARGET              307511 non-null  int64  \n",
      " 2   NAME_CONTRACT_TYPE  307511 non-null  object \n",
      " 3   CODE_GENDER         307511 non-null  object \n",
      " 4   FLAG_OWN_CAR        307511 non-null  object \n",
      " 5   FLAG_OWN_REALTY     307511 non-null  object \n",
      " 6   CNT_CHILDREN        307511 non-null  int64  \n",
      " 7   AMT_INCOME_TOTAL    307511 non-null  float64\n",
      " 8   AMT_CREDIT          307511 non-null  float64\n",
      " 9   AMT_ANNUITY         307499 non-null  float64\n",
      " 10  AMT_GOODS_PRICE     307233 non-null  float64\n",
      "dtypes: float64(4), int64(3), object(4)\n",
      "memory usage: 25.8+ MB\n",
      "None\n",
      "          SK_ID_CURR         TARGET   CNT_CHILDREN  AMT_INCOME_TOTAL  \\\n",
      "count  307511.000000  307511.000000  307511.000000      3.075110e+05   \n",
      "mean   278180.518577       0.080729       0.417052      1.687979e+05   \n",
      "std    102790.175348       0.272419       0.722121      2.371231e+05   \n",
      "min    100002.000000       0.000000       0.000000      2.565000e+04   \n",
      "25%    189145.500000       0.000000       0.000000      1.125000e+05   \n",
      "50%    278202.000000       0.000000       0.000000      1.471500e+05   \n",
      "75%    367142.500000       0.000000       1.000000      2.025000e+05   \n",
      "max    456255.000000       1.000000      19.000000      1.170000e+08   \n",
      "\n",
      "         AMT_CREDIT    AMT_ANNUITY  AMT_GOODS_PRICE  \n",
      "count  3.075110e+05  307499.000000     3.072330e+05  \n",
      "mean   5.990260e+05   27108.573909     5.383962e+05  \n",
      "std    4.024908e+05   14493.737315     3.694465e+05  \n",
      "min    4.500000e+04    1615.500000     4.050000e+04  \n",
      "25%    2.700000e+05   16524.000000     2.385000e+05  \n",
      "50%    5.135310e+05   24903.000000     4.500000e+05  \n",
      "75%    8.086500e+05   34596.000000     6.795000e+05  \n",
      "max    4.050000e+06  258025.500000     4.050000e+06  \n",
      "TARGET\n",
      "0    0.919271\n",
      "1    0.080729\n",
      "Name: proportion, dtype: float64\n"
     ]
    }
   ],
   "source": [
    "\n",
    "import pandas as pd\n",
    "\n",
    "# Load dataset\n",
    "df = pd.read_csv('loan_data.csv')\n",
    "\n",
    "# Explore the dataset\n",
    "print(df.head())\n",
    "print(df.info())\n",
    "print(df.describe())\n",
    "print(df['TARGET'].value_counts(normalize=True))  # Check class imbalance\n"
   ]
  },
  {
   "cell_type": "markdown",
   "id": "609923b2",
   "metadata": {},
   "source": [
    "## Step 2: Clean and Encode Data"
   ]
  },
  {
   "cell_type": "code",
   "execution_count": 2,
   "id": "27b7ecd7",
   "metadata": {},
   "outputs": [],
   "source": [
    "\n",
    "# Example cleaning: drop irrelevant columns\n",
    "# df = df.drop(['ID', 'Name'], axis=1)  # Uncomment and customize as needed\n",
    "\n",
    "# Handle categorical variables\n",
    "df = pd.get_dummies(df, drop_first=True)\n",
    "\n",
    "# Fill or drop missing values\n",
    "df = df.dropna()\n",
    "\n",
    "# Separate features and target\n",
    "X = df.drop(\"TARGET\", axis=1)\n",
    "y = df[\"TARGET\"]\n"
   ]
  },
  {
   "cell_type": "markdown",
   "id": "2886701d",
   "metadata": {},
   "source": [
    "## Step 3: Train-Test Split"
   ]
  },
  {
   "cell_type": "code",
   "execution_count": 3,
   "id": "69f55347",
   "metadata": {},
   "outputs": [],
   "source": [
    "\n",
    "from sklearn.model_selection import train_test_split\n",
    "\n",
    "X_train, X_test, y_train, y_test = train_test_split(X, y, test_size=0.2, random_state=42)\n"
   ]
  },
  {
   "cell_type": "markdown",
   "id": "abe93942",
   "metadata": {},
   "source": [
    "## Step 4: Logistic Regression with p-values"
   ]
  },
  {
   "cell_type": "code",
   "execution_count": 10,
   "id": "b30594bc",
   "metadata": {},
   "outputs": [
    {
     "ename": "ValueError",
     "evalue": "Pandas data cast to numpy dtype of object. Check input data with np.asarray(data).",
     "output_type": "error",
     "traceback": [
      "\u001b[31m---------------------------------------------------------------------------\u001b[39m",
      "\u001b[31mValueError\u001b[39m                                Traceback (most recent call last)",
      "\u001b[36mCell\u001b[39m\u001b[36m \u001b[39m\u001b[32mIn[10]\u001b[39m\u001b[32m, line 22\u001b[39m\n\u001b[32m     19\u001b[39m X_final_sm = sm.add_constant(X_final)\n\u001b[32m     21\u001b[39m \u001b[38;5;66;03m# Fit logistic regression\u001b[39;00m\n\u001b[32m---> \u001b[39m\u001b[32m22\u001b[39m logit_model = \u001b[43msm\u001b[49m\u001b[43m.\u001b[49m\u001b[43mLogit\u001b[49m\u001b[43m(\u001b[49m\u001b[43my_final\u001b[49m\u001b[43m,\u001b[49m\u001b[43m \u001b[49m\u001b[43mX_final_sm\u001b[49m\u001b[43m)\u001b[49m\n\u001b[32m     23\u001b[39m result = logit_model.fit()\n\u001b[32m     25\u001b[39m \u001b[38;5;66;03m# Show model summary\u001b[39;00m\n",
      "\u001b[36mFile \u001b[39m\u001b[32m/Volumes/DevDereks/opt/anaconda3/envs/jupyter_env/lib/python3.11/site-packages/statsmodels/discrete/discrete_model.py:475\u001b[39m, in \u001b[36mBinaryModel.__init__\u001b[39m\u001b[34m(self, endog, exog, offset, check_rank, **kwargs)\u001b[39m\n\u001b[32m    472\u001b[39m \u001b[38;5;28;01mdef\u001b[39;00m\u001b[38;5;250m \u001b[39m\u001b[34m__init__\u001b[39m(\u001b[38;5;28mself\u001b[39m, endog, exog, offset=\u001b[38;5;28;01mNone\u001b[39;00m, check_rank=\u001b[38;5;28;01mTrue\u001b[39;00m, **kwargs):\n\u001b[32m    473\u001b[39m     \u001b[38;5;66;03m# unconditional check, requires no extra kwargs added by subclasses\u001b[39;00m\n\u001b[32m    474\u001b[39m     \u001b[38;5;28mself\u001b[39m._check_kwargs(kwargs)\n\u001b[32m--> \u001b[39m\u001b[32m475\u001b[39m     \u001b[38;5;28;43msuper\u001b[39;49m\u001b[43m(\u001b[49m\u001b[43m)\u001b[49m\u001b[43m.\u001b[49m\u001b[34;43m__init__\u001b[39;49m\u001b[43m(\u001b[49m\u001b[43mendog\u001b[49m\u001b[43m,\u001b[49m\u001b[43m \u001b[49m\u001b[43mexog\u001b[49m\u001b[43m,\u001b[49m\u001b[43m \u001b[49m\u001b[43moffset\u001b[49m\u001b[43m=\u001b[49m\u001b[43moffset\u001b[49m\u001b[43m,\u001b[49m\u001b[43m \u001b[49m\u001b[43mcheck_rank\u001b[49m\u001b[43m=\u001b[49m\u001b[43mcheck_rank\u001b[49m\u001b[43m,\u001b[49m\n\u001b[32m    476\u001b[39m \u001b[43m                     \u001b[49m\u001b[43m*\u001b[49m\u001b[43m*\u001b[49m\u001b[43mkwargs\u001b[49m\u001b[43m)\u001b[49m\n\u001b[32m    477\u001b[39m     \u001b[38;5;28;01mif\u001b[39;00m \u001b[38;5;129;01mnot\u001b[39;00m \u001b[38;5;28missubclass\u001b[39m(\u001b[38;5;28mself\u001b[39m.\u001b[34m__class__\u001b[39m, MultinomialModel):\n\u001b[32m    478\u001b[39m         \u001b[38;5;28;01mif\u001b[39;00m \u001b[38;5;129;01mnot\u001b[39;00m np.all((\u001b[38;5;28mself\u001b[39m.endog >= \u001b[32m0\u001b[39m) & (\u001b[38;5;28mself\u001b[39m.endog <= \u001b[32m1\u001b[39m)):\n",
      "\u001b[36mFile \u001b[39m\u001b[32m/Volumes/DevDereks/opt/anaconda3/envs/jupyter_env/lib/python3.11/site-packages/statsmodels/discrete/discrete_model.py:185\u001b[39m, in \u001b[36mDiscreteModel.__init__\u001b[39m\u001b[34m(self, endog, exog, check_rank, **kwargs)\u001b[39m\n\u001b[32m    183\u001b[39m \u001b[38;5;28;01mdef\u001b[39;00m\u001b[38;5;250m \u001b[39m\u001b[34m__init__\u001b[39m(\u001b[38;5;28mself\u001b[39m, endog, exog, check_rank=\u001b[38;5;28;01mTrue\u001b[39;00m, **kwargs):\n\u001b[32m    184\u001b[39m     \u001b[38;5;28mself\u001b[39m._check_rank = check_rank\n\u001b[32m--> \u001b[39m\u001b[32m185\u001b[39m     \u001b[38;5;28;43msuper\u001b[39;49m\u001b[43m(\u001b[49m\u001b[43m)\u001b[49m\u001b[43m.\u001b[49m\u001b[34;43m__init__\u001b[39;49m\u001b[43m(\u001b[49m\u001b[43mendog\u001b[49m\u001b[43m,\u001b[49m\u001b[43m \u001b[49m\u001b[43mexog\u001b[49m\u001b[43m,\u001b[49m\u001b[43m \u001b[49m\u001b[43m*\u001b[49m\u001b[43m*\u001b[49m\u001b[43mkwargs\u001b[49m\u001b[43m)\u001b[49m\n\u001b[32m    186\u001b[39m     \u001b[38;5;28mself\u001b[39m.raise_on_perfect_prediction = \u001b[38;5;28;01mFalse\u001b[39;00m  \u001b[38;5;66;03m# keep for backwards compat\u001b[39;00m\n\u001b[32m    187\u001b[39m     \u001b[38;5;28mself\u001b[39m.k_extra = \u001b[32m0\u001b[39m\n",
      "\u001b[36mFile \u001b[39m\u001b[32m/Volumes/DevDereks/opt/anaconda3/envs/jupyter_env/lib/python3.11/site-packages/statsmodels/base/model.py:270\u001b[39m, in \u001b[36mLikelihoodModel.__init__\u001b[39m\u001b[34m(self, endog, exog, **kwargs)\u001b[39m\n\u001b[32m    269\u001b[39m \u001b[38;5;28;01mdef\u001b[39;00m\u001b[38;5;250m \u001b[39m\u001b[34m__init__\u001b[39m(\u001b[38;5;28mself\u001b[39m, endog, exog=\u001b[38;5;28;01mNone\u001b[39;00m, **kwargs):\n\u001b[32m--> \u001b[39m\u001b[32m270\u001b[39m     \u001b[38;5;28;43msuper\u001b[39;49m\u001b[43m(\u001b[49m\u001b[43m)\u001b[49m\u001b[43m.\u001b[49m\u001b[34;43m__init__\u001b[39;49m\u001b[43m(\u001b[49m\u001b[43mendog\u001b[49m\u001b[43m,\u001b[49m\u001b[43m \u001b[49m\u001b[43mexog\u001b[49m\u001b[43m,\u001b[49m\u001b[43m \u001b[49m\u001b[43m*\u001b[49m\u001b[43m*\u001b[49m\u001b[43mkwargs\u001b[49m\u001b[43m)\u001b[49m\n\u001b[32m    271\u001b[39m     \u001b[38;5;28mself\u001b[39m.initialize()\n",
      "\u001b[36mFile \u001b[39m\u001b[32m/Volumes/DevDereks/opt/anaconda3/envs/jupyter_env/lib/python3.11/site-packages/statsmodels/base/model.py:95\u001b[39m, in \u001b[36mModel.__init__\u001b[39m\u001b[34m(self, endog, exog, **kwargs)\u001b[39m\n\u001b[32m     93\u001b[39m missing = kwargs.pop(\u001b[33m'\u001b[39m\u001b[33mmissing\u001b[39m\u001b[33m'\u001b[39m, \u001b[33m'\u001b[39m\u001b[33mnone\u001b[39m\u001b[33m'\u001b[39m)\n\u001b[32m     94\u001b[39m hasconst = kwargs.pop(\u001b[33m'\u001b[39m\u001b[33mhasconst\u001b[39m\u001b[33m'\u001b[39m, \u001b[38;5;28;01mNone\u001b[39;00m)\n\u001b[32m---> \u001b[39m\u001b[32m95\u001b[39m \u001b[38;5;28mself\u001b[39m.data = \u001b[38;5;28;43mself\u001b[39;49m\u001b[43m.\u001b[49m\u001b[43m_handle_data\u001b[49m\u001b[43m(\u001b[49m\u001b[43mendog\u001b[49m\u001b[43m,\u001b[49m\u001b[43m \u001b[49m\u001b[43mexog\u001b[49m\u001b[43m,\u001b[49m\u001b[43m \u001b[49m\u001b[43mmissing\u001b[49m\u001b[43m,\u001b[49m\u001b[43m \u001b[49m\u001b[43mhasconst\u001b[49m\u001b[43m,\u001b[49m\n\u001b[32m     96\u001b[39m \u001b[43m                              \u001b[49m\u001b[43m*\u001b[49m\u001b[43m*\u001b[49m\u001b[43mkwargs\u001b[49m\u001b[43m)\u001b[49m\n\u001b[32m     97\u001b[39m \u001b[38;5;28mself\u001b[39m.k_constant = \u001b[38;5;28mself\u001b[39m.data.k_constant\n\u001b[32m     98\u001b[39m \u001b[38;5;28mself\u001b[39m.exog = \u001b[38;5;28mself\u001b[39m.data.exog\n",
      "\u001b[36mFile \u001b[39m\u001b[32m/Volumes/DevDereks/opt/anaconda3/envs/jupyter_env/lib/python3.11/site-packages/statsmodels/base/model.py:135\u001b[39m, in \u001b[36mModel._handle_data\u001b[39m\u001b[34m(self, endog, exog, missing, hasconst, **kwargs)\u001b[39m\n\u001b[32m    134\u001b[39m \u001b[38;5;28;01mdef\u001b[39;00m\u001b[38;5;250m \u001b[39m\u001b[34m_handle_data\u001b[39m(\u001b[38;5;28mself\u001b[39m, endog, exog, missing, hasconst, **kwargs):\n\u001b[32m--> \u001b[39m\u001b[32m135\u001b[39m     data = \u001b[43mhandle_data\u001b[49m\u001b[43m(\u001b[49m\u001b[43mendog\u001b[49m\u001b[43m,\u001b[49m\u001b[43m \u001b[49m\u001b[43mexog\u001b[49m\u001b[43m,\u001b[49m\u001b[43m \u001b[49m\u001b[43mmissing\u001b[49m\u001b[43m,\u001b[49m\u001b[43m \u001b[49m\u001b[43mhasconst\u001b[49m\u001b[43m,\u001b[49m\u001b[43m \u001b[49m\u001b[43m*\u001b[49m\u001b[43m*\u001b[49m\u001b[43mkwargs\u001b[49m\u001b[43m)\u001b[49m\n\u001b[32m    136\u001b[39m     \u001b[38;5;66;03m# kwargs arrays could have changed, easier to just attach here\u001b[39;00m\n\u001b[32m    137\u001b[39m     \u001b[38;5;28;01mfor\u001b[39;00m key \u001b[38;5;129;01min\u001b[39;00m kwargs:\n",
      "\u001b[36mFile \u001b[39m\u001b[32m/Volumes/DevDereks/opt/anaconda3/envs/jupyter_env/lib/python3.11/site-packages/statsmodels/base/data.py:675\u001b[39m, in \u001b[36mhandle_data\u001b[39m\u001b[34m(endog, exog, missing, hasconst, **kwargs)\u001b[39m\n\u001b[32m    672\u001b[39m     exog = np.asarray(exog)\n\u001b[32m    674\u001b[39m klass = handle_data_class_factory(endog, exog)\n\u001b[32m--> \u001b[39m\u001b[32m675\u001b[39m \u001b[38;5;28;01mreturn\u001b[39;00m \u001b[43mklass\u001b[49m\u001b[43m(\u001b[49m\u001b[43mendog\u001b[49m\u001b[43m,\u001b[49m\u001b[43m \u001b[49m\u001b[43mexog\u001b[49m\u001b[43m=\u001b[49m\u001b[43mexog\u001b[49m\u001b[43m,\u001b[49m\u001b[43m \u001b[49m\u001b[43mmissing\u001b[49m\u001b[43m=\u001b[49m\u001b[43mmissing\u001b[49m\u001b[43m,\u001b[49m\u001b[43m \u001b[49m\u001b[43mhasconst\u001b[49m\u001b[43m=\u001b[49m\u001b[43mhasconst\u001b[49m\u001b[43m,\u001b[49m\n\u001b[32m    676\u001b[39m \u001b[43m             \u001b[49m\u001b[43m*\u001b[49m\u001b[43m*\u001b[49m\u001b[43mkwargs\u001b[49m\u001b[43m)\u001b[49m\n",
      "\u001b[36mFile \u001b[39m\u001b[32m/Volumes/DevDereks/opt/anaconda3/envs/jupyter_env/lib/python3.11/site-packages/statsmodels/base/data.py:84\u001b[39m, in \u001b[36mModelData.__init__\u001b[39m\u001b[34m(self, endog, exog, missing, hasconst, **kwargs)\u001b[39m\n\u001b[32m     82\u001b[39m     \u001b[38;5;28mself\u001b[39m.orig_endog = endog\n\u001b[32m     83\u001b[39m     \u001b[38;5;28mself\u001b[39m.orig_exog = exog\n\u001b[32m---> \u001b[39m\u001b[32m84\u001b[39m     \u001b[38;5;28mself\u001b[39m.endog, \u001b[38;5;28mself\u001b[39m.exog = \u001b[38;5;28;43mself\u001b[39;49m\u001b[43m.\u001b[49m\u001b[43m_convert_endog_exog\u001b[49m\u001b[43m(\u001b[49m\u001b[43mendog\u001b[49m\u001b[43m,\u001b[49m\u001b[43m \u001b[49m\u001b[43mexog\u001b[49m\u001b[43m)\u001b[49m\n\u001b[32m     86\u001b[39m \u001b[38;5;28mself\u001b[39m.const_idx = \u001b[38;5;28;01mNone\u001b[39;00m\n\u001b[32m     87\u001b[39m \u001b[38;5;28mself\u001b[39m.k_constant = \u001b[32m0\u001b[39m\n",
      "\u001b[36mFile \u001b[39m\u001b[32m/Volumes/DevDereks/opt/anaconda3/envs/jupyter_env/lib/python3.11/site-packages/statsmodels/base/data.py:509\u001b[39m, in \u001b[36mPandasData._convert_endog_exog\u001b[39m\u001b[34m(self, endog, exog)\u001b[39m\n\u001b[32m    507\u001b[39m exog = exog \u001b[38;5;28;01mif\u001b[39;00m exog \u001b[38;5;129;01mis\u001b[39;00m \u001b[38;5;28;01mNone\u001b[39;00m \u001b[38;5;28;01melse\u001b[39;00m np.asarray(exog)\n\u001b[32m    508\u001b[39m \u001b[38;5;28;01mif\u001b[39;00m endog.dtype == \u001b[38;5;28mobject\u001b[39m \u001b[38;5;129;01mor\u001b[39;00m exog \u001b[38;5;129;01mis\u001b[39;00m \u001b[38;5;129;01mnot\u001b[39;00m \u001b[38;5;28;01mNone\u001b[39;00m \u001b[38;5;129;01mand\u001b[39;00m exog.dtype == \u001b[38;5;28mobject\u001b[39m:\n\u001b[32m--> \u001b[39m\u001b[32m509\u001b[39m     \u001b[38;5;28;01mraise\u001b[39;00m \u001b[38;5;167;01mValueError\u001b[39;00m(\u001b[33m\"\u001b[39m\u001b[33mPandas data cast to numpy dtype of object. \u001b[39m\u001b[33m\"\u001b[39m\n\u001b[32m    510\u001b[39m                      \u001b[33m\"\u001b[39m\u001b[33mCheck input data with np.asarray(data).\u001b[39m\u001b[33m\"\u001b[39m)\n\u001b[32m    511\u001b[39m \u001b[38;5;28;01mreturn\u001b[39;00m \u001b[38;5;28msuper\u001b[39m()._convert_endog_exog(endog, exog)\n",
      "\u001b[31mValueError\u001b[39m: Pandas data cast to numpy dtype of object. Check input data with np.asarray(data)."
     ]
    }
   ],
   "source": [
    "import pandas as pd\n",
    "import statsmodels.api as sm\n",
    "\n",
    "# Force X and y to numeric, drop any non-numeric columns and rows with NaNs\n",
    "X_train_cleaned = X_train.copy().apply(pd.to_numeric, errors='coerce')\n",
    "y_train_cleaned = pd.to_numeric(y_train, errors='coerce')\n",
    "\n",
    "# Drop columns in X with any NaNs (likely from failed coercion)\n",
    "X_train_cleaned = X_train_cleaned.dropna(axis=1)\n",
    "\n",
    "# Drop rows with NaNs in X or y\n",
    "combined = pd.concat([X_train_cleaned, y_train_cleaned], axis=1).dropna()\n",
    "\n",
    "# Separate cleaned X and y again\n",
    "X_final = combined.drop(columns=['TARGET']) if 'TARGET' in combined.columns else combined.iloc[:, :-1]\n",
    "y_final = combined['TARGET'] if 'TARGET' in combined.columns else combined.iloc[:, -1]\n",
    "\n",
    "# Add constant for intercept\n",
    "X_final_sm = sm.add_constant(X_final)\n",
    "\n",
    "# Fit logistic regression\n",
    "logit_model = sm.Logit(y_final, X_final_sm)\n",
    "result = logit_model.fit()\n",
    "\n",
    "# Show model summary\n",
    "print(result.summary())"
   ]
  },
  {
   "cell_type": "markdown",
   "id": "35d26b94",
   "metadata": {},
   "source": [
    "## Step 5: Fit Additional Models (Optional)"
   ]
  },
  {
   "cell_type": "code",
   "execution_count": null,
   "id": "f2e8ec4e",
   "metadata": {},
   "outputs": [],
   "source": [
    "\n",
    "from sklearn.ensemble import RandomForestClassifier\n",
    "\n",
    "rf = RandomForestClassifier()\n",
    "rf.fit(X_train, y_train)\n"
   ]
  },
  {
   "cell_type": "markdown",
   "id": "cfbc8aaa",
   "metadata": {},
   "source": [
    "## Step 6: Evaluate Performance"
   ]
  },
  {
   "cell_type": "code",
   "execution_count": null,
   "id": "1f7b6d5e",
   "metadata": {},
   "outputs": [],
   "source": [
    "\n",
    "from sklearn.metrics import accuracy_score, classification_report\n",
    "\n",
    "y_pred = rf.predict(X_test)\n",
    "\n",
    "print(\"Random Forest Accuracy:\", accuracy_score(y_test, y_pred))\n",
    "print(\"Classification Report:\\n\", classification_report(y_test, y_pred))\n",
    "\n",
    "# Baseline comparison\n",
    "baseline = max(y.value_counts()) / len(y)\n",
    "print(\"Baseline Accuracy (Majority Class):\", baseline)\n"
   ]
  },
  {
   "cell_type": "markdown",
   "id": "d5b4f9c3",
   "metadata": {},
   "source": [
    "## Step 7: Summary and Analysis"
   ]
  },
  {
   "cell_type": "markdown",
   "id": "1434ad16",
   "metadata": {},
   "source": [
    "\n",
    "Write a short analysis here covering:\n",
    "\n",
    "- Preprocessing steps you applied\n",
    "- Insights from logistic regression p-values\n",
    "- Model performance and how it compares to the baseline\n",
    "- Which features seem most/least useful\n",
    "- Any other insights you gained\n"
   ]
  }
 ],
 "metadata": {
  "kernelspec": {
   "display_name": "Python (Jupyter Clean)",
   "language": "python",
   "name": "jupyter_env"
  },
  "language_info": {
   "codemirror_mode": {
    "name": "ipython",
    "version": 3
   },
   "file_extension": ".py",
   "mimetype": "text/x-python",
   "name": "python",
   "nbconvert_exporter": "python",
   "pygments_lexer": "ipython3",
   "version": "3.11.11"
  }
 },
 "nbformat": 4,
 "nbformat_minor": 5
}
