{
 "cells": [
  {
   "attachments": {},
   "cell_type": "markdown",
   "metadata": {},
   "source": [
    "## Module 7 Assignment"
   ]
  },
  {
   "attachments": {},
   "cell_type": "markdown",
   "metadata": {},
   "source": [
    "## Part 1: Review Code & Add Comments"
   ]
  },
  {
   "attachments": {},
   "cell_type": "markdown",
   "metadata": {},
   "source": [
    "### Code Overview\n",
    "In sample code we will be using the LogisticRegressionCV algorithm and StandardScaler to build a classification model that predicts whether a passenger on the Titanic survived or not. We will be using the Titanic dataset, which contains information about passengers on the Titanic, including their age, gender, class, and whether they survived or not. You will preprocess the data, split it into training and testing sets, scale the data, train a logistic regression model using cross-validation, and evaluate the model's performance using precision, recall, and F1-score.\n",
    "\n",
    "\n",
    "The Titanic dataset contains data about passengers on the Titanic, including their age, gender, class, and whether they survived or not. The dataset includes 891 rows and 12 columns, including the target variable \"Survived\", which indicates whether the passenger survived or not.\n",
    "\n",
    "### The other features in the dataset include:\n",
    "\n",
    "- Pclass: the passenger's class (1st, 2nd, or 3rd)\n",
    "- Name: the passenger's name\n",
    "- Sex: the passenger's gender\n",
    "- Age: the passenger's age\n",
    "- SibSp: the number of siblings or spouses on board\n",
    "- Parch: the number of parents or children on board\n",
    "- Ticket: the passenger's ticket number\n",
    "- Fare: the price of the passenger's ticket\n",
    "- Cabin: the passenger's cabin number\n",
    "- Embarked: the port where the passenger embarked (C = Cherbourg, Q = Queenstown, S = Southampton)\n",
    "Evaluation Criteria\n",
    "- Your submission will be evaluated on the following criteria:\n",
    "\n",
    "\n",
    "Submit a clear and concise interpretation of the code added in the markdown comments."
   ]
  },
  {
   "cell_type": "code",
   "execution_count": null,
   "metadata": {},
   "outputs": [],
   "source": [
    "# Install yellowbrick\n",
    "!pip3 install yellowbrick\n",
    "!pip install yellowbrick\n",
    "!pip3 install --upgrade pip"
   ]
  },
  {
   "cell_type": "code",
   "execution_count": null,
   "metadata": {},
   "outputs": [],
   "source": [
    "import pandas as pd\n",
    "from sklearn.model_selection import train_test_split\n",
    "from sklearn.linear_model import LogisticRegressionCV\n",
    "from sklearn.preprocessing import StandardScaler\n",
    "from yellowbrick.classifier import ConfusionMatrix, ClassificationReport\n",
    "from yellowbrick.classifier import ROCAUC\n",
    "from sklearn.datasets import load_breast_cancer\n",
    "from sklearn.metrics import precision_recall_fscore_support"
   ]
  },
  {
   "cell_type": "code",
   "execution_count": null,
   "metadata": {},
   "outputs": [],
   "source": [
    "# ADD COMMENT\n",
    "titanic = pd.read_csv('titanic.csv')"
   ]
  },
  {
   "cell_type": "code",
   "execution_count": null,
   "metadata": {},
   "outputs": [],
   "source": [
    "# ADD COMMENT\n",
    "titanic = titanic.drop(['PassengerId', 'Name', 'Ticket', 'Cabin'], axis=1)\n",
    "titanic = pd.get_dummies(titanic, columns=['Sex', 'Embarked'], drop_first=True)\n",
    "titanic = titanic.dropna()"
   ]
  },
  {
   "cell_type": "code",
   "execution_count": null,
   "metadata": {},
   "outputs": [],
   "source": [
    "# ADD COMMENT\n",
    "X = titanic.drop(['Survived'], axis=1)\n",
    "y = titanic['Survived']\n",
    "X_train, X_test, y_train, y_test = train_test_split(X, y, test_size=0.3, random_state=42)"
   ]
  },
  {
   "cell_type": "code",
   "execution_count": null,
   "metadata": {},
   "outputs": [],
   "source": [
    "# ADD COMMENT\n",
    "scaler = StandardScaler()\n",
    "X_train = scaler.fit_transform(X_train)\n",
    "X_test = scaler.transform(X_test)"
   ]
  },
  {
   "cell_type": "code",
   "execution_count": null,
   "metadata": {},
   "outputs": [],
   "source": [
    "# ADD COMMENT\n",
    "clf = LogisticRegressionCV(cv=5, random_state=42)\n",
    "clf.fit(X_train, y_train)"
   ]
  },
  {
   "cell_type": "code",
   "execution_count": null,
   "metadata": {},
   "outputs": [],
   "source": [
    "# ADD COMMENT\n",
    "y_pred = clf.predict(X_test)"
   ]
  },
  {
   "cell_type": "code",
   "execution_count": null,
   "metadata": {},
   "outputs": [],
   "source": [
    "# ADD COMMENT\n",
    "precision, recall, f1, support = precision_recall_fscore_support(y_test, y_pred, average='binary')\n",
    "print(\"Precision: \", precision)\n",
    "print(\"Recall: \", recall)\n",
    "print(\"F1 Score: \", f1)"
   ]
  },
  {
   "cell_type": "code",
   "execution_count": null,
   "metadata": {},
   "outputs": [],
   "source": [
    "# ADD COMMENT\n",
    "cm = ConfusionMatrix(clf, classes=[0,1])\n",
    "cm.score(X_test, y_test)\n",
    "cm.show()"
   ]
  },
  {
   "cell_type": "code",
   "execution_count": null,
   "metadata": {},
   "outputs": [],
   "source": [
    "# ADD COMMENT\n",
    "report = ClassificationReport(clf, classes=[0,1], support=True)\n",
    "report.score(X_test, y_test)\n",
    "report.show()"
   ]
  },
  {
   "attachments": {},
   "cell_type": "markdown",
   "metadata": {},
   "source": [
    "## Part 2: Your Turn"
   ]
  },
  {
   "attachments": {},
   "cell_type": "markdown",
   "metadata": {},
   "source": [
    "### Wine Dataset Classification using Logistic RegressionCV and StandardScaler\n",
    "In this assignment, you will be using the LogisticRegressionCV algorithm and StandardScaler to build a classification model that can predict the wine class. You will be using the \"Wine Data Set\" from the sklearn library, which contains information about the chemical composition of wines grown in the same region in Italy. You will preprocess the data, split it into training and testing sets, scale the data, train a logistic regression model using cross-validation, and evaluate the model's performance using a classification report.\n",
    "\n",
    "#### Dataset\n",
    "The \"Wine Data Set\" contains data about the chemical composition of wines grown in the same region in Italy. The dataset includes 178 rows and 13 columns, including the target variable \"target\", which indicates the wine class.\n",
    "\n",
    "#### The other features in the dataset include:\n",
    "\n",
    "- alcohol: the alcohol content of the wine\n",
    "- malic_acid: the malic acid content of the wine\n",
    "- ash: the ash content of the wine\n",
    "- alcalinity_of_ash: the alcalinity of ash of the wine\n",
    "- magnesium: the magnesium content of the wine\n",
    "- total_phenols: the total phenols content of the wine\n",
    "- flavanoids: the flavanoids content of the wine\n",
    "- nonflavanoid_phenols: the nonflavanoid phenols content of the wine\n",
    "- proanthocyanins: the proanthocyanins content of the wine\n",
    "- color_intensity: the color intensity of the wine\n",
    "- hue: the hue of the wine\n",
    "- od280/od315_of_diluted_wines: the OD280/OD315 of diluted wines\n",
    "- proline: the proline content of the wine\n",
    "\n",
    "The target variable \"target\" has three classes:\n",
    "\n",
    "- Class 0: 59 instances\n",
    "- Class 1: 71 instances\n",
    "- Class 2: 48 instances\n",
    "\n",
    "Requirements\n",
    "- Load the dataset into a pandas DataFrame.\n",
    "- Split the dataset into training and testing sets, with 70% of the data for training and 30% for testing.\n",
    "- Scale the numerical features using StandardScaler.\n",
    "- Train a logistic regression model using cross-validation (LogisticRegressionCV) on the training data. Use a 5-fold cross-validation, and set the regularization parameter C to a value of 1.\n",
    "- Evaluate the performance of the model on the testing data using a classification report, which includes precision, recall, f1-score, and support for each class.\n",
    "- Interpret the results of the model"
   ]
  },
  {
   "cell_type": "code",
   "execution_count": 2,
   "metadata": {},
   "outputs": [],
   "source": [
    "from sklearn.datasets import load_wine\n",
    "from sklearn.model_selection import train_test_split\n",
    "from sklearn.preprocessing import StandardScaler\n",
    "from sklearn.linear_model import LogisticRegressionCV\n",
    "from yellowbrick.classifier import ClassificationReport\n",
    "\n",
    "# Load the dataset into a pandas DataFrame\n",
    "wine = load_wine()\n",
    "X, y = wine.data, wine.target\n",
    "feature_names = wine.feature_names"
   ]
  },
  {
   "cell_type": "code",
   "execution_count": 4,
   "metadata": {},
   "outputs": [
    {
     "data": {
      "image/png": "[encoded data removed]",
      "text/plain": [
       "<Figure size 800x550 with 2 Axes>"
      ]
     },
     "metadata": {},
     "output_type": "display_data"
    },
    {
     "data": {
      "text/plain": [
       "<Axes: title={'center': 'LogisticRegressionCV Classification Report'}>"
      ]
     },
     "execution_count": 4,
     "metadata": {},
     "output_type": "execute_result"
    }
   ],
   "source": [
    "# Split the data into training and testing sets\n",
    "#ADD CODE \n",
    "\n",
    "# Preprocess the data using StandardScaler\n",
    "#ADD CODE \n",
    "\n",
    "# Train the logistic regression model using cross-validation\n",
    "#ADD CODE \n",
    "\n",
    "\n",
    "# Visualize precision, recall, and f1 scores using Yellowbrick\n",
    "#ADD CODE \n"
   ]
  },
  {
   "cell_type": "code",
   "execution_count": null,
   "metadata": {},
   "outputs": [],
   "source": []
  }
 ],
 "metadata": {
  "kernelspec": {
   "display_name": "Python 3",
   "language": "python",
   "name": "python3"
  },
  "language_info": {
   "codemirror_mode": {
    "name": "ipython",
    "version": 3
   },
   "file_extension": ".py",
   "mimetype": "text/x-python",
   "name": "python",
   "nbconvert_exporter": "python",
   "pygments_lexer": "ipython3",
   "version": "3.11.0"
  },
  "orig_nbformat": 4
 },
 "nbformat": 4,
 "nbformat_minor": 2
}
