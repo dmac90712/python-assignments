{
 "cells": [
  {
   "attachments": {},
   "cell_type": "markdown",
   "metadata": {},
   "source": [
    "## Module 4 : Exploratory Data Analysis and Visualization\n",
    "\n",
    "The main objective of EDA is to provide a comprehensive understanding of the data, highlight key insights and patterns, and formulate hypotheses about the underlying relationships between variables. EDA plays a critical role in determining the feasibility of modeling a given dataset, selecting appropriate modeling techniques, and identifying key features to include in the model."
   ]
  },
  {
   "cell_type": "markdown",
   "metadata": {},
   "source": []
  },
  {
   "cell_type": "markdown",
   "metadata": {},
   "source": [
    "### Installation\n",
    "To install or update the Python Libaries, run the below pip commands. If you encounter an errors add an upgrade -U argument after install: !pip install -U pandas "
   ]
  },
  {
   "cell_type": "code",
   "execution_count": null,
   "metadata": {},
   "outputs": [],
   "source": [
    "!pip install pandas\n",
    "!pip install matplotlib\n",
    "!pip install seaborn\n",
    "!pip install numpy\n",
    "!pip install scikit-learn\n",
    "!pip install plotly\n",
    "\n",
    "!pip3 install pandas\n",
    "!pip3 install matplotlib\n",
    "!pip3 install seaborn\n",
    "!pip3 install numpy\n",
    "!pip3 install scikit-learn\n",
    "!pip3 install plotly"
   ]
  },
  {
   "cell_type": "code",
   "execution_count": 74,
   "metadata": {},
   "outputs": [],
   "source": [
    "import pandas as pd\n",
    "import matplotlib.pyplot as plt\n",
    "import pandas as pd  \n",
    "import seaborn as sns \n",
    "from sklearn import datasets \n",
    "import plotly.express as px"
   ]
  },
  {
   "attachments": {},
   "cell_type": "markdown",
   "metadata": {},
   "source": [
    "#### Exercise 1: Creating Visualization\n",
    "Using the dataset provided below, complete each step described below. \n"
   ]
  },
  {
   "cell_type": "code",
   "execution_count": null,
   "metadata": {},
   "outputs": [],
   "source": [
    "# Create Variables\n",
    "patientID = [1, 2, 3, 4, 5, 6, 7, 8, 9, 10, 11, 12, 13, 14, 15] \n",
    "weight = [125, 167, 134, 187, 108, 202, 134, 191, 300, 245, 109, 146, 112, 207, 205] \n",
    "gender = ['M', 'M', 'M', 'M', 'F', 'M', 'F', 'F', 'M', 'F', 'M', 'M', 'F', 'F', 'M'] \n",
    "height = [62, 52, 75, 71, 66, 72, 61, 71, 74, 63, 71, 61, 64, 72, 65] \n",
    "\n",
    "# Create Python Dictionary \n",
    "df_dict = {\"ID\": patientID, \"Weight\": weight, \"Gender\": gender, \"Height (in)\": height} \n",
    "\n",
    "# Create Dataframe\n",
    "df = pd.DataFrame.from_dict(df_dict)\n",
    "\n",
    "# Print Dataframe\n",
    "print(df)"
   ]
  },
  {
   "attachments": {},
   "cell_type": "markdown",
   "metadata": {},
   "source": [
    "#### Exercise 1.1 Create a scatterplot using gender as the x-axis value and height as the y-axis value."
   ]
  },
  {
   "cell_type": "code",
   "execution_count": null,
   "metadata": {},
   "outputs": [],
   "source": [
    "# ENTER CODE HERE"
   ]
  },
  {
   "attachments": {},
   "cell_type": "markdown",
   "metadata": {},
   "source": [
    "#### Exercise 1.2 Add a title such as \"Gender vs Height in Patients\"."
   ]
  },
  {
   "cell_type": "code",
   "execution_count": null,
   "metadata": {},
   "outputs": [],
   "source": [
    "# ENTER CODE HERE"
   ]
  },
  {
   "attachments": {},
   "cell_type": "markdown",
   "metadata": {},
   "source": [
    "#### Exercise 1.3 Add labels to the x-axis label called \"Gender\" and a y-axis called \"Height\"."
   ]
  },
  {
   "cell_type": "code",
   "execution_count": null,
   "metadata": {},
   "outputs": [],
   "source": [
    "# ENTER CODE HERE"
   ]
  },
  {
   "attachments": {},
   "cell_type": "markdown",
   "metadata": {},
   "source": [
    "#### Exercise 1.4 Change the color of the points to red: `color = 'red'`"
   ]
  },
  {
   "cell_type": "code",
   "execution_count": null,
   "metadata": {},
   "outputs": [],
   "source": [
    "# ENTER CODE HERE"
   ]
  },
  {
   "attachments": {},
   "cell_type": "markdown",
   "metadata": {},
   "source": [
    "### Exercise 2: Exploratory Data Analysis (EDA) using Matplotlib on Boston Housing Dataset\n",
    "\n",
    "Dataset: UCI Boston Housing Dataset\n",
    "\n",
    "Instructions:\n",
    "\n",
    "1. Load the dataset into a Pandas DataFrame using pd.read_csv(). Then explore the dataset. \n",
    "\n",
    "    Perform exploratory data analysis (EDA) on the dataset using Matplotlib. Your analysis should include:\n",
    "\n",
    "2. Data visualization using scatter plot and histogram.\n",
    "\n",
    "3. Analyzing the relationship between each independent variable and the dependent variable.\n",
    "\n",
    "4. Identifying any outliers in the dataset.\n",
    "\n",
    "5. Identifying any missing values in the dataset and imputing them if necessary.\n",
    "\n",
    "Your code should be well-documented and easy to follow."
   ]
  },
  {
   "attachments": {},
   "cell_type": "markdown",
   "metadata": {},
   "source": [
    "#### Exercise 2.1: Load the dataset into a Pandas DataFrame using pd.read_csv()\n"
   ]
  },
  {
   "cell_type": "code",
   "execution_count": null,
   "metadata": {},
   "outputs": [],
   "source": [
    "#Load the dataset\n",
    "df = pd.read_csv('housing.csv')\n",
    "\n",
    "# Inspect Dataset using head(), info, describe() and/or shape()\n",
    "# ENTER CODE"
   ]
  },
  {
   "cell_type": "code",
   "execution_count": null,
   "metadata": {},
   "outputs": [],
   "source": [
    "# Inspect using describe()\n",
    "# ENTER CODE"
   ]
  },
  {
   "attachments": {},
   "cell_type": "markdown",
   "metadata": {},
   "source": [
    "#### Exervise 2.2: Create a scatter plot of RM on the x-axis and MEDV on y-axis\n",
    "RM: Average number of rooms per dwelling\n",
    "\n",
    "MEDV: Median value of owner-occupied homes in $1000\\'s\n",
    "\n",
    "Title: Relationship between RM and MEDV"
   ]
  },
  {
   "cell_type": "code",
   "execution_count": null,
   "metadata": {},
   "outputs": [],
   "source": [
    "# ENTER CODE\n"
   ]
  },
  {
   "attachments": {},
   "cell_type": "markdown",
   "metadata": {},
   "source": [
    "#### Exervise 2.2: Create visualization using histogram of Median Value\n",
    "\n",
    "Histogram of MEDV \n",
    "\n",
    "X Label: Median value of owner-occupied homes in $1000\\'s (MEDV)\n",
    "\n",
    "Y Label: Frequency \n",
    "\n",
    "Title: Histogram of MEDV"
   ]
  },
  {
   "cell_type": "code",
   "execution_count": null,
   "metadata": {},
   "outputs": [],
   "source": [
    "# ENTER CODE\n"
   ]
  },
  {
   "attachments": {},
   "cell_type": "markdown",
   "metadata": {},
   "source": [
    "#### Exercise 2.3 Analyzing the relationship between each independent variable and the dependent variable using .corr() and `print(corr_matrix['MEDV'].sort_values(ascending=False))`\n",
    "\n"
   ]
  },
  {
   "cell_type": "code",
   "execution_count": null,
   "metadata": {},
   "outputs": [],
   "source": [
    "# Use .corr() method\n",
    "#corr_matrix = df. \n",
    "print(corr_matrix['MEDV'].sort_values(ascending=False))"
   ]
  },
  {
   "attachments": {},
   "cell_type": "markdown",
   "metadata": {},
   "source": [
    "#### Exercise 2.4 Identifying any outliers of MEDV in the dataset using boxplot(). Add a title 'Boxplot of MEDV'\n"
   ]
  },
  {
   "cell_type": "code",
   "execution_count": null,
   "metadata": {},
   "outputs": [],
   "source": [
    "# ENTER CODE\n"
   ]
  },
  {
   "attachments": {},
   "cell_type": "markdown",
   "metadata": {},
   "source": [
    "#### Exercise 2.5 Identifying any missing values in the dataset and imputing them if necessary. Hint: Use .isnull().sum()\n"
   ]
  },
  {
   "cell_type": "code",
   "execution_count": null,
   "metadata": {},
   "outputs": [],
   "source": [
    "# ENTER CODE\n"
   ]
  },
  {
   "attachments": {},
   "cell_type": "markdown",
   "metadata": {},
   "source": [
    "#### Exercise 2.5 If there are any missing values, you can impute them using pandas. Use the .mean() \n",
    "method"
   ]
  },
  {
   "cell_type": "code",
   "execution_count": null,
   "metadata": {},
   "outputs": [],
   "source": [
    "# ENTER CODE\n"
   ]
  },
  {
   "attachments": {},
   "cell_type": "markdown",
   "metadata": {},
   "source": [
    "#### Exercise 3: Select any dataset from Kaggle. Use Plotly or Seaborn to create at least 5 visualizations that reveal interesting insights about the data.\n",
    "\n",
    "Kaggle: https://www.kaggle.com/datasets"
   ]
  },
  {
   "cell_type": "code",
   "execution_count": null,
   "metadata": {},
   "outputs": [],
   "source": []
  },
  {
   "cell_type": "code",
   "execution_count": null,
   "metadata": {},
   "outputs": [],
   "source": []
  }
 ],
 "metadata": {
  "kernelspec": {
   "display_name": "Python 3",
   "language": "python",
   "name": "python3"
  },
  "language_info": {
   "codemirror_mode": {
    "name": "ipython",
    "version": 3
   },
   "file_extension": ".py",
   "mimetype": "text/x-python",
   "name": "python",
   "nbconvert_exporter": "python",
   "pygments_lexer": "ipython3",
   "version": "3.11.0"
  },
  "orig_nbformat": 4
 },
 "nbformat": 4,
 "nbformat_minor": 2
}
