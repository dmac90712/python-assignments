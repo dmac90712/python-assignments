{
 "cells": [
  {
   "attachments": {},
   "cell_type": "markdown",
   "metadata": {},
   "source": [
    "# Python Exercises in the Jupyter Notebook"
   ]
  },
  {
   "attachments": {},
   "cell_type": "markdown",
   "metadata": {},
   "source": [
    "### To be covered:\n",
    "* How to use [Jupyter Notebook](http://jupyter.org/)\n",
    "* Some *basic* python programming\n",
    "* **Required: Complete the Exercises as described below.**"
   ]
  },
  {
   "attachments": {},
   "cell_type": "markdown",
   "metadata": {},
   "source": [
    "### What is Jupyter?\n",
    "\n",
    "* Jupyter is a notebook environment with a browser interface that can be used for interactive computing in Python and other languages (I haven't tried other languages).\n",
    "* From when you open (or restart) a Jupyter notebook, variable assignments, function declarations, etc are stored and updated as you go.\n",
    "* Basic usage: \n",
    "    * Type some code in a cell\n",
    "    * Hit `<shift><enter>` to execute the cell\n",
    "    * The *return value* or the *string representation* of the last line of the cell will be output below the code.\n",
    "\n",
    "### Saving\n",
    "* The notebook periodically gets saved automatically, but you can also do File -> Save and Checkpoint\n",
    "* You can change the name by clicking on the name\n",
    "(I like to do \"Make a copy\" periodically to explicitly save older versions)"
   ]
  },
  {
   "cell_type": "code",
   "execution_count": null,
   "metadata": {
    "collapsed": true
   },
   "outputs": [],
   "source": [
    "my_name = 'ari'"
   ]
  },
  {
   "cell_type": "code",
   "execution_count": 3,
   "metadata": {
    "collapsed": false
   },
   "outputs": [],
   "source": [
    "my_name = 'Derek'"
   ]
  },
  {
   "cell_type": "code",
   "execution_count": 4,
   "metadata": {
    "collapsed": false,
    "scrolled": true
   },
   "outputs": [
    {
     "data": {
      "text/plain": [
       "4"
      ]
     },
     "execution_count": 4,
     "metadata": {},
     "output_type": "execute_result"
    }
   ],
   "source": [
    "2 + 2"
   ]
  },
  {
   "cell_type": "code",
   "execution_count": 5,
   "metadata": {
    "collapsed": false
   },
   "outputs": [],
   "source": [
    "example_variable = 2 + 2"
   ]
  },
  {
   "cell_type": "code",
   "execution_count": 52,
   "metadata": {
    "collapsed": false
   },
   "outputs": [],
   "source": [
    "example_variable = 4 + 10"
   ]
  },
  {
   "cell_type": "code",
   "execution_count": 7,
   "metadata": {
    "collapsed": false
   },
   "outputs": [
    {
     "data": {
      "text/plain": [
       "9"
      ]
     },
     "execution_count": 7,
     "metadata": {},
     "output_type": "execute_result"
    }
   ],
   "source": [
    "example_variable = example_variable + 5\n",
    "example_variable"
   ]
  },
  {
   "cell_type": "markdown",
   "metadata": {},
   "source": [
    "* Other key Jupyter features:\n",
    "    * tab completion (right now, if you type \"exam\" and hit `<tab>`, it will complete with \"example_variable\")\n",
    "    * easy access to function documentation\n",
    "    * syntax highlighting\n",
    "    * `%%time` at the beginning of a cell will print out how long it took to run the code"
   ]
  },
  {
   "cell_type": "markdown",
   "metadata": {},
   "source": [
    "## Jupyter editing\n",
    "* Jupyter interactive editing is somewhat patterned after the unix editor vi (if you're a nerd and you happen to know what that is).\n",
    "* You're either in **edit mode** or **command mode**. You can tell you're in edit mode if there is a blinking cursor in the highlighted cell.\n",
    "* In edit mode, obviously, you edit the code.\n",
    "* In command mode, there are a bunch of shortcut keys. For example, hitting 'm' changes cell type to \"Markdown\". Hitting 'l' adds line numbers. 'x' cuts (deletes) the cell. 'z' undoes the last cell deletion, but currently it only remembers one deletion back.\n",
    "* **Common mistake**: starting to type while in command mode. \n",
    "* More shortcut keys in command mode:\n",
    "    * `<shift><enter>` to run the code in the cell\n",
    "    * 'a' and 'b' create a new cell above or below the current cell\n",
    "    * 'c', 'x', 'v': copy, cut, paste.\n",
    "    * 'M' merges the current cell with the one below it.\n",
    "    * 'r' changes cell type to \"Raw\", which is useful as a quick way to clear lengthy output: hit 'r' then 'y' to change it back to type \"Code\"\n",
    "* Shortcut keys in command mode:\n",
    "    * `<shift><enter>` to run the code in the cell\n",
    "    * `<command>z` to undo edits\n",
    "    * You can highlight a bunch of code and hit `<tab>` to indent it\n",
    "    * To split cells, click inside the cell where you want the split and hit `<ctrl><shift>-`\n",
    "    * Hit `<escape>` while in edit mode to switch to command mode."
   ]
  },
  {
   "cell_type": "markdown",
   "metadata": {},
   "source": [
    "You can also change cell type using the \"Cell\" pull-down menu.  \n",
    "By the way, \"Markdown\" is what I'm using to make these nice text cells (you can even have tables!) - see [Markdown Cheatsheet](https://github.com/adam-p/markdown-here/wiki/Markdown-Cheatsheet).  \n",
    "\"Raw\" is a good way to comment out a cell so it won't run. "
   ]
  },
  {
   "cell_type": "markdown",
   "metadata": {},
   "source": [
    "## Coding examples"
   ]
  },
  {
   "cell_type": "code",
   "execution_count": 8,
   "metadata": {
    "collapsed": false
   },
   "outputs": [
    {
     "name": "stdout",
     "output_type": "stream",
     "text": [
      "0\n",
      "1\n",
      "2\n",
      "3\n",
      "4\n",
      "5\n",
      "6\n"
     ]
    }
   ],
   "source": [
    "# Execute me by hitting <shift><enter>\n",
    "for i in range(7):\n",
    "    print(i)"
   ]
  },
  {
   "cell_type": "markdown",
   "metadata": {},
   "source": [
    "### A couple of really important points:\n",
    "* Click inside the parentheses of the range function and hit `<shift><tab>` to see documentation.\n",
    "* `range(7)` spits out 0 to 6 because python indexing is 0-based. More on that later.\n",
    "* **Stuff inside the for loop must be indented 4 spaces.** Python is *very* much a stickler on this!\n",
    "    * (Explanation: the python interpreter considers the code inside the loop to begin after the \":\" and end when you stop indenting 4 spaces)"
   ]
  },
  {
   "attachments": {},
   "cell_type": "markdown",
   "metadata": {},
   "source": [
    "### Exercise 0: Predict in your head what the following code will print out, then try executing it."
   ]
  },
  {
   "cell_type": "code",
   "execution_count": 9,
   "metadata": {
    "collapsed": false
   },
   "outputs": [
    {
     "name": "stdout",
     "output_type": "stream",
     "text": [
      "0\n",
      "yo\n",
      "1\n",
      "yo\n",
      "dude\n"
     ]
    }
   ],
   "source": [
    "for i in range(2):\n",
    "    print(i)\n",
    "    print(\"yo\")\n",
    "print(\"dude\")"
   ]
  },
  {
   "attachments": {},
   "cell_type": "markdown",
   "metadata": {},
   "source": [
    "### Exercise 1: below, add an *argument* to the *print function* to make it print out \"0123456\" without the *newlines*. A for loop is one example but what argument does the print statement use to remove the default new line.\n",
    "***Hint: use `<shift><tab>` trick to see documentation for print function***"
   ]
  },
  {
   "cell_type": "code",
   "execution_count": 10,
   "metadata": {
    "collapsed": false
   },
   "outputs": [
    {
     "name": "stdout",
     "output_type": "stream",
     "text": [
      "0\n",
      "1\n",
      "2\n",
      "3\n",
      "4\n",
      "5\n",
      "6\n"
     ]
    }
   ],
   "source": [
    "for i in range(7):\n",
    "    print(i)"
   ]
  },
  {
   "cell_type": "code",
   "execution_count": 11,
   "metadata": {
    "collapsed": false
   },
   "outputs": [
    {
     "name": "stdout",
     "output_type": "stream",
     "text": [
      "0\n",
      "01\n",
      "012\n",
      "0123\n",
      "01234\n",
      "012345\n",
      "0123456\n"
     ]
    }
   ],
   "source": [
    "s = \"\"\n",
    "for i in range(7):\n",
    "    s=s+str(i)\n",
    "    print(s)"
   ]
  },
  {
   "cell_type": "code",
   "execution_count": 13,
   "metadata": {
    "collapsed": false
   },
   "outputs": [
    {
     "name": "stdout",
     "output_type": "stream",
     "text": [
      "0 1 2 3 4 5 6 "
     ]
    }
   ],
   "source": [
    "for i in range(7):\n",
    "     print(i, end=\" \")"
   ]
  },
  {
   "cell_type": "markdown",
   "metadata": {},
   "source": [
    "# Lists, tuples, dictionaries: containers of arbitrary things\n",
    "* These are the most important data storage constructs in basic python"
   ]
  },
  {
   "cell_type": "markdown",
   "metadata": {},
   "source": [
    "### List"
   ]
  },
  {
   "cell_type": "code",
   "execution_count": 14,
   "metadata": {
    "collapsed": true
   },
   "outputs": [],
   "source": [
    "example_list = ['alpha', 'bravo', 2, print]"
   ]
  },
  {
   "cell_type": "code",
   "execution_count": 15,
   "metadata": {
    "collapsed": false
   },
   "outputs": [
    {
     "data": {
      "text/plain": [
       "list"
      ]
     },
     "execution_count": 15,
     "metadata": {},
     "output_type": "execute_result"
    }
   ],
   "source": [
    "type(example_list)"
   ]
  },
  {
   "cell_type": "code",
   "execution_count": 16,
   "metadata": {
    "collapsed": false
   },
   "outputs": [
    {
     "name": "stdout",
     "output_type": "stream",
     "text": [
      "alphabravo2<built-in function print>"
     ]
    }
   ],
   "source": [
    "# Print each item in the list\n",
    "\n",
    "for item in example_list:\n",
    "    print(item,end=\"\")"
   ]
  },
  {
   "cell_type": "code",
   "execution_count": 17,
   "metadata": {
    "collapsed": false
   },
   "outputs": [
    {
     "data": {
      "text/plain": [
       "'bravo'"
      ]
     },
     "execution_count": 17,
     "metadata": {},
     "output_type": "execute_result"
    }
   ],
   "source": [
    "# Access the second item in the list (0-based indexing!)\n",
    "\n",
    "example_list[1]"
   ]
  },
  {
   "attachments": {},
   "cell_type": "markdown",
   "metadata": {},
   "source": [
    "### Exercise 2: What is the Python code to access the 1st item in the list?"
   ]
  },
  {
   "cell_type": "code",
   "execution_count": 18,
   "metadata": {},
   "outputs": [
    {
     "data": {
      "text/plain": [
       "'alpha'"
      ]
     },
     "execution_count": 18,
     "metadata": {},
     "output_type": "execute_result"
    }
   ],
   "source": [
    "example_list[0]"
   ]
  },
  {
   "cell_type": "markdown",
   "metadata": {},
   "source": [
    "### Tuple"
   ]
  },
  {
   "cell_type": "code",
   "execution_count": 19,
   "metadata": {
    "collapsed": true
   },
   "outputs": [],
   "source": [
    "example_tuple = ('alpha', 'bravo', 2, print)"
   ]
  },
  {
   "cell_type": "code",
   "execution_count": 20,
   "metadata": {
    "collapsed": false
   },
   "outputs": [
    {
     "data": {
      "text/plain": [
       "tuple"
      ]
     },
     "execution_count": 20,
     "metadata": {},
     "output_type": "execute_result"
    }
   ],
   "source": [
    "type(example_tuple)"
   ]
  },
  {
   "cell_type": "code",
   "execution_count": 21,
   "metadata": {
    "collapsed": false
   },
   "outputs": [
    {
     "name": "stdout",
     "output_type": "stream",
     "text": [
      "alpha\n",
      "bravo\n",
      "2\n",
      "<built-in function print>\n"
     ]
    }
   ],
   "source": [
    "for item in example_tuple:\n",
    "    print(item)"
   ]
  },
  {
   "cell_type": "code",
   "execution_count": 22,
   "metadata": {
    "collapsed": false
   },
   "outputs": [
    {
     "data": {
      "text/plain": [
       "'alpha'"
      ]
     },
     "execution_count": 22,
     "metadata": {},
     "output_type": "execute_result"
    }
   ],
   "source": [
    "example_tuple[0]"
   ]
  },
  {
   "cell_type": "markdown",
   "metadata": {},
   "source": [
    "Tuple is just like list except it's static.  \n",
    "Use lists unless you know you need a tuple."
   ]
  },
  {
   "cell_type": "markdown",
   "metadata": {},
   "source": [
    "### Dict"
   ]
  },
  {
   "cell_type": "code",
   "execution_count": 23,
   "metadata": {
    "collapsed": true
   },
   "outputs": [],
   "source": [
    "example_dict = {'a':63, 7:'a', 'g':print}   # {key:value, key:value, key:value}"
   ]
  },
  {
   "cell_type": "code",
   "execution_count": 24,
   "metadata": {
    "collapsed": false
   },
   "outputs": [
    {
     "data": {
      "text/plain": [
       "dict"
      ]
     },
     "execution_count": 24,
     "metadata": {},
     "output_type": "execute_result"
    }
   ],
   "source": [
    "type(example_dict)"
   ]
  },
  {
   "cell_type": "code",
   "execution_count": 25,
   "metadata": {
    "collapsed": false
   },
   "outputs": [
    {
     "data": {
      "text/plain": [
       "{'a': 63,\n",
       " 7: 'a',\n",
       " 'g': <function print(*args, sep=' ', end='\\n', file=None, flush=False)>}"
      ]
     },
     "execution_count": 25,
     "metadata": {},
     "output_type": "execute_result"
    }
   ],
   "source": [
    "example_dict"
   ]
  },
  {
   "cell_type": "code",
   "execution_count": 26,
   "metadata": {
    "collapsed": false
   },
   "outputs": [
    {
     "data": {
      "text/plain": [
       "63"
      ]
     },
     "execution_count": 26,
     "metadata": {},
     "output_type": "execute_result"
    }
   ],
   "source": [
    "example_dict['a']"
   ]
  },
  {
   "cell_type": "code",
   "execution_count": 27,
   "metadata": {
    "collapsed": false
   },
   "outputs": [
    {
     "data": {
      "text/plain": [
       "'a'"
      ]
     },
     "execution_count": 27,
     "metadata": {},
     "output_type": "execute_result"
    }
   ],
   "source": [
    "example_dict[7]"
   ]
  },
  {
   "cell_type": "code",
   "execution_count": 28,
   "metadata": {
    "collapsed": false
   },
   "outputs": [
    {
     "ename": "KeyError",
     "evalue": "15",
     "output_type": "error",
     "traceback": [
      "\u001b[0;31m---------------------------------------------------------------------------\u001b[0m",
      "\u001b[0;31mKeyError\u001b[0m                                  Traceback (most recent call last)",
      "Cell \u001b[0;32mIn[28], line 4\u001b[0m\n\u001b[1;32m      1\u001b[0m \u001b[38;5;66;03m# Raises Exception KeyError if you query a key that is not in the dict\u001b[39;00m\n\u001b[1;32m      2\u001b[0m \u001b[38;5;66;03m# You can do example_dict.get(key, default_value) to gracefully return, e.g. 0 when the key is missing.\u001b[39;00m\n\u001b[0;32m----> 4\u001b[0m example_dict[\u001b[38;5;241m15\u001b[39m]\n",
      "\u001b[0;31mKeyError\u001b[0m: 15"
     ]
    }
   ],
   "source": [
    "# Raises Exception KeyError if you query a key that is not in the dict\n",
    "# You can do example_dict.get(key, default_value) to gracefully return, e.g. 0 when the key is missing.\n",
    "\n",
    "example_dict[15]"
   ]
  },
  {
   "cell_type": "code",
   "execution_count": 29,
   "metadata": {
    "collapsed": false
   },
   "outputs": [
    {
     "data": {
      "text/plain": [
       "<function print(*args, sep=' ', end='\\n', file=None, flush=False)>"
      ]
     },
     "execution_count": 29,
     "metadata": {},
     "output_type": "execute_result"
    }
   ],
   "source": [
    "example_dict['g']"
   ]
  },
  {
   "cell_type": "markdown",
   "metadata": {},
   "source": [
    "**Common mistake**: `example_dict[g]` would throw an exception. You need those quotes."
   ]
  },
  {
   "cell_type": "code",
   "execution_count": 30,
   "metadata": {
    "collapsed": false
   },
   "outputs": [
    {
     "name": "stdout",
     "output_type": "stream",
     "text": [
      "you coding, bro?\n"
     ]
    }
   ],
   "source": [
    "# example_dict['g'] is a function, so we can use it like a function\n",
    "\n",
    "example_dict['g'](\"you coding, bro?\")"
   ]
  },
  {
   "cell_type": "markdown",
   "metadata": {},
   "source": [
    "# Strings"
   ]
  },
  {
   "cell_type": "code",
   "execution_count": 31,
   "metadata": {
    "collapsed": false
   },
   "outputs": [
    {
     "data": {
      "text/plain": [
       "'  A String  '"
      ]
     },
     "execution_count": 31,
     "metadata": {},
     "output_type": "execute_result"
    }
   ],
   "source": [
    "'  A String  '"
   ]
  },
  {
   "cell_type": "code",
   "execution_count": 32,
   "metadata": {
    "collapsed": false
   },
   "outputs": [
    {
     "data": {
      "text/plain": [
       "str"
      ]
     },
     "execution_count": 32,
     "metadata": {},
     "output_type": "execute_result"
    }
   ],
   "source": [
    "type('  A String  ')"
   ]
  },
  {
   "cell_type": "code",
   "execution_count": 33,
   "metadata": {
    "collapsed": false
   },
   "outputs": [
    {
     "data": {
      "text/plain": [
       "'a string'"
      ]
     },
     "execution_count": 33,
     "metadata": {},
     "output_type": "execute_result"
    }
   ],
   "source": [
    "# The str type has lots of useful functions\n",
    "\n",
    "'  A String '.strip().lower()"
   ]
  },
  {
   "attachments": {},
   "cell_type": "markdown",
   "metadata": {},
   "source": [
    "### Exercise 3: See what each of those functions, `.strip()` and `.lower()` do separately"
   ]
  },
  {
   "cell_type": "code",
   "execution_count": 34,
   "metadata": {
    "collapsed": false
   },
   "outputs": [
    {
     "data": {
      "text/plain": [
       "'A    String  k'"
      ]
     },
     "execution_count": 34,
     "metadata": {},
     "output_type": "execute_result"
    }
   ],
   "source": [
    "'   A    String  k   '.strip()\n"
   ]
  },
  {
   "cell_type": "code",
   "execution_count": 35,
   "metadata": {
    "collapsed": false
   },
   "outputs": [
    {
     "data": {
      "text/plain": [
       "'a string'"
      ]
     },
     "execution_count": 35,
     "metadata": {},
     "output_type": "execute_result"
    }
   ],
   "source": [
    "'A String'.lower()\n"
   ]
  },
  {
   "attachments": {},
   "cell_type": "markdown",
   "metadata": {},
   "source": [
    "### Review the output of the below comparisons and add string"
   ]
  },
  {
   "cell_type": "code",
   "execution_count": 36,
   "metadata": {
    "collapsed": false
   },
   "outputs": [
    {
     "data": {
      "text/plain": [
       "False"
      ]
     },
     "execution_count": 36,
     "metadata": {},
     "output_type": "execute_result"
    }
   ],
   "source": [
    "'Jack' == 'jack'   # comparison of strings"
   ]
  },
  {
   "cell_type": "code",
   "execution_count": 37,
   "metadata": {
    "collapsed": false
   },
   "outputs": [
    {
     "data": {
      "text/plain": [
       "True"
      ]
     },
     "execution_count": 37,
     "metadata": {},
     "output_type": "execute_result"
    }
   ],
   "source": [
    "'Jack'.lower() == 'jack'.lower()   # comparison of strings"
   ]
  },
  {
   "cell_type": "code",
   "execution_count": 38,
   "metadata": {
    "collapsed": false
   },
   "outputs": [
    {
     "data": {
      "text/plain": [
       "'timehoney'"
      ]
     },
     "execution_count": 38,
     "metadata": {},
     "output_type": "execute_result"
    }
   ],
   "source": [
    "'time' + 'honey'  # can \"add\" strings."
   ]
  },
  {
   "attachments": {},
   "cell_type": "markdown",
   "metadata": {},
   "source": [
    "### Exceptions - Note the AttributeError exception when function method .lower() is applied to a integer value."
   ]
  },
  {
   "cell_type": "code",
   "execution_count": 39,
   "metadata": {
    "collapsed": false
   },
   "outputs": [
    {
     "data": {
      "text/plain": [
       "'fantastic!'"
      ]
     },
     "execution_count": 39,
     "metadata": {},
     "output_type": "execute_result"
    }
   ],
   "source": [
    "a = 'FANTASTIC!'\n",
    "a.lower()"
   ]
  },
  {
   "cell_type": "code",
   "execution_count": 40,
   "metadata": {
    "collapsed": false
   },
   "outputs": [
    {
     "ename": "AttributeError",
     "evalue": "'int' object has no attribute 'lower'",
     "output_type": "error",
     "traceback": [
      "\u001b[0;31m---------------------------------------------------------------------------\u001b[0m",
      "\u001b[0;31mAttributeError\u001b[0m                            Traceback (most recent call last)",
      "Cell \u001b[0;32mIn[40], line 2\u001b[0m\n\u001b[1;32m      1\u001b[0m a \u001b[38;5;241m=\u001b[39m \u001b[38;5;241m3\u001b[39m\n\u001b[0;32m----> 2\u001b[0m a\u001b[38;5;241m.\u001b[39mlower()\n",
      "\u001b[0;31mAttributeError\u001b[0m: 'int' object has no attribute 'lower'"
     ]
    }
   ],
   "source": [
    "a = 3\n",
    "a.lower()   # throws Exception"
   ]
  },
  {
   "cell_type": "markdown",
   "metadata": {},
   "source": [
    "`AttributeError` is an *exception* that python *throws* when it gets this bad input.  \n",
    "Earlier we saw a `dict` throw the *exception* `KeyError` when I queried a key that wasn't present."
   ]
  },
  {
   "attachments": {},
   "cell_type": "markdown",
   "metadata": {},
   "source": [
    "Often times an exception get thrown, like, 4 layers deep in function calls, e.g. `e(f(g(h(whathaveyou)))` and the function `h` has a problem operating on `whathaveyou`. In that case you get a traceback that shows the layers, which is long, but you get used to it. \n",
    "\n",
    "#### Often the error message is not helpful. Keep calm and Google it. Even the most experience developer Googles error messages and syntax. "
   ]
  },
  {
   "cell_type": "code",
   "execution_count": 41,
   "metadata": {
    "collapsed": true
   },
   "outputs": [],
   "source": [
    "# Remember that crazy list of mixed types from earlier?\n",
    "example_list = ['alpha', 'bravo', 2, print]"
   ]
  },
  {
   "cell_type": "code",
   "execution_count": 43,
   "metadata": {
    "collapsed": false
   },
   "outputs": [
    {
     "ename": "TypeError",
     "evalue": "'str' object is not callable",
     "output_type": "error",
     "traceback": [
      "\u001b[0;31m---------------------------------------------------------------------------\u001b[0m",
      "\u001b[0;31mTypeError\u001b[0m                                 Traceback (most recent call last)",
      "Cell \u001b[0;32mIn[43], line 2\u001b[0m\n\u001b[1;32m      1\u001b[0m \u001b[38;5;28;01mfor\u001b[39;00m item \u001b[38;5;129;01min\u001b[39;00m example_list:\n\u001b[0;32m----> 2\u001b[0m     item(\u001b[38;5;124m'\u001b[39m\u001b[38;5;124mworks!\u001b[39m\u001b[38;5;124m'\u001b[39m)\n",
      "\u001b[0;31mTypeError\u001b[0m: 'str' object is not callable"
     ]
    }
   ],
   "source": [
    "for item in example_list:\n",
    "    item('works!')"
   ]
  },
  {
   "cell_type": "markdown",
   "metadata": {},
   "source": [
    "Here, `TypeError` is thrown on the first iteration of the for loop because the first item, `'alpha'`, is not a function, and you can only do `something(input)` if `something` is a function (well, there's other things it could be, e.g. a class, but you get the point)."
   ]
  },
  {
   "cell_type": "code",
   "execution_count": 44,
   "metadata": {
    "collapsed": false
   },
   "outputs": [
    {
     "name": "stdout",
     "output_type": "stream",
     "text": [
      "Error: alpha doesn't work\n",
      "Error: bravo doesn't work\n",
      "Error: 2 doesn't work\n",
      "carl is my therapist\n"
     ]
    }
   ],
   "source": [
    "# try: except: clause to handle exceptions\n",
    "for item in example_list:\n",
    "    try:\n",
    "        item('carl is my therapist')\n",
    "    except:\n",
    "        print(\"Error: {} doesn't work\".format(item))"
   ]
  },
  {
   "cell_type": "code",
   "execution_count": 45,
   "metadata": {
    "collapsed": false
   },
   "outputs": [
    {
     "name": "stdout",
     "output_type": "stream",
     "text": [
      "Error: alpha doesn't work\n",
      "<class 'str'>\n",
      "Error: bravo doesn't work\n",
      "<class 'str'>\n",
      "Error: 2 doesn't work\n",
      "<class 'int'>\n",
      "carl is my therapist\n"
     ]
    }
   ],
   "source": [
    "# Can also get more information on what's causing the exception\n",
    "for item in example_list:\n",
    "    try:\n",
    "        item('carl is my therapist')\n",
    "    except:\n",
    "        print(\"Error: {} doesn't work\".format(item))\n",
    "        print(type(item))"
   ]
  },
  {
   "attachments": {},
   "cell_type": "markdown",
   "metadata": {},
   "source": [
    "### Exercise 4: Complete the below steps:\n",
    "1. Store a string in a variable, example: `color = 'blue'`\n",
    "1. Make a list containing the functions `type`, `len`, and `str.upper`\n",
    "1. Use a for loop to iterate over that list like so: `for func in your_list:`\n",
    "1. In the for loop, execute the current function with the variable you created as input, and print its output: `print(func(color))`"
   ]
  },
  {
   "cell_type": "code",
   "execution_count": 46,
   "metadata": {
    "collapsed": true
   },
   "outputs": [
    {
     "name": "stdout",
     "output_type": "stream",
     "text": [
      "<class 'str'>\n",
      "4\n",
      "BLUE\n"
     ]
    }
   ],
   "source": [
    "### ENTER CODE HERE\n",
    "\n",
    "# Store a string in a variable\n",
    "color = 'blue'\n",
    "\n",
    "#Make a list containing the functions\n",
    "your_list = [type, len, str.upper]\n",
    "\n",
    "#Use a for loop to iterate through the list\n",
    "for func in your_list:\n",
    "    # Call the function with the variable as an argument\n",
    "    print(func(color))"
   ]
  },
  {
   "attachments": {},
   "cell_type": "markdown",
   "metadata": {},
   "source": [
    "### Exercise 5: Complete the below steps:\n",
    "1. Add the string `'nothing'` to the list, so that we get an exception thrown when python tries to execute it. Hint: .append()\n",
    "1. Now put function call inside a `try: except:` clause to gracefully handle the exception. Hint: try: & except: "
   ]
  },
  {
   "cell_type": "code",
   "execution_count": null,
   "metadata": {
    "collapsed": false
   },
   "outputs": [
    {
     "name": "stdout",
     "output_type": "stream",
     "text": [
      "<class 'str'>\n",
      "4\n",
      "BLUE\n",
      "An error occurred: 'str' object is not callable\n"
     ]
    }
   ],
   "source": [
    "### ENTER CODE HERE\n",
    "# Step 1: Start with the original setup\n",
    "color = 'blue'\n",
    "your_list = [type, len, str.upper]\n",
    "\n",
    "# Step 2: Add the string 'nothing' to the list\n",
    "your_list.append('nothing')\n",
    "\n"
   ]
  },
  {
   "cell_type": "code",
   "execution_count": 48,
   "metadata": {
    "collapsed": false
   },
   "outputs": [
    {
     "name": "stdout",
     "output_type": "stream",
     "text": [
      "<class 'str'>\n",
      "4\n",
      "BLUE\n",
      "An error occurred: 'str' object is not callable\n"
     ]
    }
   ],
   "source": [
    "### ENTER CODE HERE\n",
    "# Step 3: Loop with try-except to catch errors\n",
    "for func in your_list:\n",
    "    try:\n",
    "        print(func(color))  # Try calling the function\n",
    "    except Exception as e:\n",
    "        print(f\"An error occurred: {e}\")"
   ]
  },
  {
   "attachments": {},
   "cell_type": "markdown",
   "metadata": {},
   "source": [
    "### The Python String .format() Method\n",
    "The Python string .format() method was introduced in version 2.6. str.format() is an improvement on %-formatting. It uses normal function call syntax and is extensible through the __format__() method on the object being converted to a string. With str.format(), the replacement fields are marked by curly braces. \n",
    "\n",
    "![Format Method Syntax](https://files.realpython.com/media/t.e6b8525755da.png)\n",
    "\n",
    "\n"
   ]
  },
  {
   "cell_type": "code",
   "execution_count": 49,
   "metadata": {},
   "outputs": [
    {
     "name": "stdout",
     "output_type": "stream",
     "text": [
      "6 bananas cost $1.74\n"
     ]
    }
   ],
   "source": [
    "print('{0} {1} cost ${2}'.format(6, 'bananas', 1.74))"
   ]
  },
  {
   "cell_type": "markdown",
   "metadata": {},
   "source": []
  },
  {
   "attachments": {},
   "cell_type": "markdown",
   "metadata": {},
   "source": [
    "#### Exercise 5: Use the .format() method to format the following string: \"Hello, my name is {name} and I am {age} years old.\" Replace the placeholders {name} and {age} with your name and age. "
   ]
  },
  {
   "cell_type": "code",
   "execution_count": 50,
   "metadata": {},
   "outputs": [
    {
     "name": "stdout",
     "output_type": "stream",
     "text": [
      "Hello, my name is Derek and I am 25 years old.\n"
     ]
    }
   ],
   "source": [
    "### ENTER CODE HERE\n",
    "\n",
    "# Using .format() method\n",
    "sentence = \"Hello, my name is {name} and I am {age} years old.\".format(name=\"Derek\", age=25)\n",
    "\n",
    "print(sentence)"
   ]
  },
  {
   "attachments": {},
   "cell_type": "markdown",
   "metadata": {},
   "source": [
    "#### Exercise 6: Slicing a String Use slicing to extract a portion of the following string: \"Hello, World!\" and print it to the console."
   ]
  },
  {
   "cell_type": "code",
   "execution_count": 51,
   "metadata": {},
   "outputs": [],
   "source": [
    "### ENTER CODE HERE\n",
    "#Given string\n",
    "text = \"Hello, World!\"\n",
    "\n",
    "#Slice the string to get \"World\"\n",
    "sliced_text = text[7:12]"
   ]
  },
  {
   "cell_type": "markdown",
   "metadata": {},
   "source": [
    "#### Exerice 7: Using nicely formatted Jupyter markdown explain how version control with git is important.  "
   ]
  },
  {
   "attachments": {},
   "cell_type": "markdown",
   "metadata": {},
   "source": [
    "#### ENTER ANSWER HERE"
   ]
  },
  {
   "cell_type": "code",
   "execution_count": null,
   "metadata": {},
   "outputs": [],
   "source": []
  },
  {
   "cell_type": "markdown",
   "metadata": {},
   "source": [
    "# The Importance of Version Control with Git\n",
    "\n",
    "As a new web developer, using Git has been critical in my first professional role. Git allows me to track every change I make, making it easy to revert mistakes and understand my project's history.\n",
    "\n",
    "## Why Git Matters:\n",
    "\n",
    "- **Change Tracking:** Quickly review, undo, or improve past work.\n",
    "- **Team Collaboration:** Work alongside other developers without conflicts.\n",
    "- **Project Safety:** Protect code with backups and reliable versioning.\n",
    "- **Experiment Safely:** Build new features on branches without risking main code.\n",
    "\n",
    "## Final Thought\n",
    "\n",
    "Git isn't just a tool—it's part of how professional developers work smarter, faster, and more reliably."
   ]
  }
 ],
 "metadata": {
  "anaconda-cloud": {},
  "kernelspec": {
   "display_name": "base",
   "language": "python",
   "name": "python3"
  },
  "language_info": {
   "codemirror_mode": {
    "name": "ipython",
    "version": 3
   },
   "file_extension": ".py",
   "mimetype": "text/x-python",
   "name": "python",
   "nbconvert_exporter": "python",
   "pygments_lexer": "ipython3",
   "version": "3.12.7"
  }
 },
 "nbformat": 4,
 "nbformat_minor": 1
}
