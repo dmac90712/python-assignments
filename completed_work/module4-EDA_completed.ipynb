{
 "cells": [
  {
   "attachments": {},
   "cell_type": "markdown",
   "metadata": {},
   "source": [
    "## Module 4 : Exploratory Data Analysis and Visualization\n",
    "\n",
    "The main objective of EDA is to provide a comprehensive understanding of the data, highlight key insights and patterns, and formulate hypotheses about the underlying relationships between variables. EDA plays a critical role in determining the feasibility of modeling a given dataset, selecting appropriate modeling techniques, and identifying key features to include in the model."
   ]
  },
  {
   "cell_type": "markdown",
   "metadata": {},
   "source": []
  },
  {
   "cell_type": "markdown",
   "metadata": {},
   "source": [
    "### Installation\n",
    "To install or update the Python Libaries, run the below pip commands. If you encounter an errors add an upgrade -U argument after install: !pip install -U pandas "
   ]
  },
  {
   "cell_type": "code",
   "execution_count": null,
   "metadata": {},
   "outputs": [],
   "source": [
    "!pip install pandas\n",
    "!pip install matplotlib\n",
    "!pip install seaborn\n",
    "!pip install numpy\n",
    "!pip install scikit-learn\n",
    "!pip install plotly\n",
    "\n",
    "!pip3 install pandas\n",
    "!pip3 install matplotlib\n",
    "!pip3 install seaborn\n",
    "!pip3 install numpy\n",
    "!pip3 install scikit-learn\n",
    "!pip3 install plotly"
   ]
  },
  {
   "cell_type": "code",
   "execution_count": null,
   "metadata": {},
   "outputs": [],
   "source": [
    "import pandas as pd\n",
    "import matplotlib.pyplot as plt\n",
    "import pandas as pd  \n",
    "import seaborn as sns \n",
    "from sklearn import datasets \n",
    "import plotly.express as px"
   ]
  },
  {
   "attachments": {},
   "cell_type": "markdown",
   "metadata": {},
   "source": [
    "#### Exercise 1: Creating Visualization\n",
    "Using the dataset provided below, complete each step described below. \n"
   ]
  },
  {
   "cell_type": "code",
   "execution_count": 1,
   "metadata": {},
   "outputs": [
    {
     "ename": "NameError",
     "evalue": "name 'pd' is not defined",
     "output_type": "error",
     "traceback": [
      "\u001b[0;31m---------------------------------------------------------------------------\u001b[0m",
      "\u001b[0;31mNameError\u001b[0m                                 Traceback (most recent call last)",
      "Cell \u001b[0;32mIn[1], line 11\u001b[0m\n\u001b[1;32m      8\u001b[0m df_dict \u001b[38;5;241m=\u001b[39m {\u001b[38;5;124m\"\u001b[39m\u001b[38;5;124mID\u001b[39m\u001b[38;5;124m\"\u001b[39m: patientID, \u001b[38;5;124m\"\u001b[39m\u001b[38;5;124mWeight\u001b[39m\u001b[38;5;124m\"\u001b[39m: weight, \u001b[38;5;124m\"\u001b[39m\u001b[38;5;124mGender\u001b[39m\u001b[38;5;124m\"\u001b[39m: gender, \u001b[38;5;124m\"\u001b[39m\u001b[38;5;124mHeight (in)\u001b[39m\u001b[38;5;124m\"\u001b[39m: height} \n\u001b[1;32m     10\u001b[0m \u001b[38;5;66;03m# Create Dataframe\u001b[39;00m\n\u001b[0;32m---> 11\u001b[0m df \u001b[38;5;241m=\u001b[39m pd\u001b[38;5;241m.\u001b[39mDataFrame\u001b[38;5;241m.\u001b[39mfrom_dict(df_dict)\n\u001b[1;32m     13\u001b[0m \u001b[38;5;66;03m# Print Dataframe\u001b[39;00m\n\u001b[1;32m     14\u001b[0m \u001b[38;5;28mprint\u001b[39m(df)\n",
      "\u001b[0;31mNameError\u001b[0m: name 'pd' is not defined"
     ]
    }
   ],
   "source": [
    "# Create Variables\n",
    "patientID = [1, 2, 3, 4, 5, 6, 7, 8, 9, 10, 11, 12, 13, 14, 15] \n",
    "weight = [125, 167, 134, 187, 108, 202, 134, 191, 300, 245, 109, 146, 112, 207, 205] \n",
    "gender = ['M', 'M', 'M', 'M', 'F', 'M', 'F', 'F', 'M', 'F', 'M', 'M', 'F', 'F', 'M'] \n",
    "height = [62, 52, 75, 71, 66, 72, 61, 71, 74, 63, 71, 61, 64, 72, 65] \n",
    "\n",
    "# Create Python Dictionary \n",
    "df_dict = {\"ID\": patientID, \"Weight\": weight, \"Gender\": gender, \"Height (in)\": height} \n",
    "\n",
    "# Create Dataframe\n",
    "df = pd.DataFrame.from_dict(df_dict)\n",
    "\n",
    "# Print Dataframe\n",
    "print(df)"
   ]
  },
  {
   "attachments": {},
   "cell_type": "markdown",
   "metadata": {},
   "source": [
    "#### Exercise 1.1 Create a scatterplot using gender as the x-axis value and height as the y-axis value."
   ]
  },
  {
   "cell_type": "code",
   "execution_count": 2,
   "metadata": {},
   "outputs": [
    {
     "name": "stdout",
     "output_type": "stream",
     "text": [
      "First 5 rows:\n"
     ]
    },
    {
     "ename": "NameError",
     "evalue": "name 'df' is not defined",
     "output_type": "error",
     "traceback": [
      "\u001b[0;31m---------------------------------------------------------------------------\u001b[0m",
      "\u001b[0;31mNameError\u001b[0m                                 Traceback (most recent call last)",
      "Cell \u001b[0;32mIn[2], line 3\u001b[0m\n\u001b[1;32m      1\u001b[0m \u001b[38;5;66;03m# Inspect the DataFrame\u001b[39;00m\n\u001b[1;32m      2\u001b[0m \u001b[38;5;28mprint\u001b[39m(\u001b[38;5;124m\"\u001b[39m\u001b[38;5;124mFirst 5 rows:\u001b[39m\u001b[38;5;124m\"\u001b[39m)\n\u001b[0;32m----> 3\u001b[0m \u001b[38;5;28mprint\u001b[39m(df\u001b[38;5;241m.\u001b[39mhead())\n\u001b[1;32m      5\u001b[0m \u001b[38;5;28mprint\u001b[39m(\u001b[38;5;124m\"\u001b[39m\u001b[38;5;130;01m\\n\u001b[39;00m\u001b[38;5;124mDataFrame Info:\u001b[39m\u001b[38;5;124m\"\u001b[39m)\n\u001b[1;32m      6\u001b[0m \u001b[38;5;28mprint\u001b[39m(df\u001b[38;5;241m.\u001b[39minfo())\n",
      "\u001b[0;31mNameError\u001b[0m: name 'df' is not defined"
     ]
    }
   ],
   "source": [
    "\n",
    "# Inspect the DataFrame\n",
    "print(\"First 5 rows:\")\n",
    "print(df.head())\n",
    "\n",
    "print(\"\\nDataFrame Info:\")\n",
    "print(df.info())\n",
    "\n",
    "print(\"\\nShape of the DataFrame:\")\n",
    "print(df.shape)\n",
    "\n",
    "print(\"\\nSummary Statistics:\")\n",
    "print(df.describe())\n"
   ]
  },
  {
   "attachments": {},
   "cell_type": "markdown",
   "metadata": {},
   "source": [
    "#### Exercise 1.2 Add a title such as \"Gender vs Height in Patients\"."
   ]
  },
  {
   "cell_type": "code",
   "execution_count": 3,
   "metadata": {},
   "outputs": [
    {
     "ename": "NameError",
     "evalue": "name 'df' is not defined",
     "output_type": "error",
     "traceback": [
      "\u001b[0;31m---------------------------------------------------------------------------\u001b[0m",
      "\u001b[0;31mNameError\u001b[0m                                 Traceback (most recent call last)",
      "Cell \u001b[0;32mIn[3], line 2\u001b[0m\n\u001b[1;32m      1\u001b[0m \u001b[38;5;66;03m# Plot histograms for numeric columns\u001b[39;00m\n\u001b[0;32m----> 2\u001b[0m df\u001b[38;5;241m.\u001b[39mhist(figsize\u001b[38;5;241m=\u001b[39m(\u001b[38;5;241m10\u001b[39m, \u001b[38;5;241m8\u001b[39m), bins\u001b[38;5;241m=\u001b[39m\u001b[38;5;241m20\u001b[39m)\n\u001b[1;32m      3\u001b[0m plt\u001b[38;5;241m.\u001b[39mtight_layout()\n\u001b[1;32m      4\u001b[0m plt\u001b[38;5;241m.\u001b[39mshow()\n",
      "\u001b[0;31mNameError\u001b[0m: name 'df' is not defined"
     ]
    }
   ],
   "source": [
    "\n",
    "# Plot histograms for numeric columns\n",
    "df.hist(figsize=(10, 8), bins=20)\n",
    "plt.tight_layout()\n",
    "plt.show()\n"
   ]
  },
  {
   "attachments": {},
   "cell_type": "markdown",
   "metadata": {},
   "source": [
    "#### Exercise 1.3 Add labels to the x-axis label called \"Gender\" and a y-axis called \"Height\"."
   ]
  },
  {
   "cell_type": "code",
   "execution_count": null,
   "metadata": {},
   "outputs": [],
   "source": [
    "\n",
    "# Boxplot for 'Weight' grouped by 'Gender'\n",
    "sns.boxplot(x='Gender', y='Weight', data=df)\n",
    "plt.title(\"Weight Distribution by Gender\")\n",
    "plt.show()\n"
   ]
  },
  {
   "attachments": {},
   "cell_type": "markdown",
   "metadata": {},
   "source": [
    "#### Exercise 1.4 Change the color of the points to red: `color = 'red'`"
   ]
  },
  {
   "cell_type": "code",
   "execution_count": null,
   "metadata": {},
   "outputs": [],
   "source": [
    "\n",
    "# Scatter plot of Height vs Weight\n",
    "plt.figure(figsize=(8,6))\n",
    "sns.scatterplot(x='Height (in)', y='Weight', hue='Gender', data=df)\n",
    "plt.title(\"Height vs Weight\")\n",
    "plt.xlabel(\"Height (in)\")\n",
    "plt.ylabel(\"Weight\")\n",
    "plt.show()\n"
   ]
  },
  {
   "attachments": {},
   "cell_type": "markdown",
   "metadata": {},
   "source": [
    "### Exercise 2: Exploratory Data Analysis (EDA) using Matplotlib on Boston Housing Dataset\n",
    "\n",
    "Dataset: UCI Boston Housing Dataset\n",
    "\n",
    "Instructions:\n",
    "\n",
    "1. Load the dataset into a Pandas DataFrame using pd.read_csv(). Then explore the dataset. \n",
    "\n",
    "    Perform exploratory data analysis (EDA) on the dataset using Matplotlib. Your analysis should include:\n",
    "\n",
    "2. Data visualization using scatter plot and histogram.\n",
    "\n",
    "3. Analyzing the relationship between each independent variable and the dependent variable.\n",
    "\n",
    "4. Identifying any outliers in the dataset.\n",
    "\n",
    "5. Identifying any missing values in the dataset and imputing them if necessary.\n",
    "\n",
    "Your code should be well-documented and easy to follow."
   ]
  },
  {
   "attachments": {},
   "cell_type": "markdown",
   "metadata": {},
   "source": [
    "#### Exercise 2.1: Load the dataset into a Pandas DataFrame using pd.read_csv()\n"
   ]
  },
  {
   "cell_type": "code",
   "execution_count": null,
   "metadata": {},
   "outputs": [],
   "source": [
    "#Load the dataset\n",
    "df = pd.read_csv('housing.csv')\n",
    "\n",
    "# Inspect Dataset using head(), info, describe() and/or shape()\n",
    "# ENTER CODE"
   ]
  },
  {
   "cell_type": "code",
   "execution_count": null,
   "metadata": {},
   "outputs": [],
   "source": [
    "\n",
    "# Load the housing dataset\n",
    "df = pd.read_csv('housing.csv')\n",
    "\n",
    "# Preview the dataset\n",
    "print(df.head())\n",
    "\n",
    "# Check structure\n",
    "print(df.info())\n",
    "\n",
    "# Describe statistics\n",
    "print(df.describe())\n",
    "\n",
    "# Shape of the dataset\n",
    "print(\"Shape of dataset:\", df.shape)\n"
   ]
  },
  {
   "attachments": {},
   "cell_type": "markdown",
   "metadata": {},
   "source": [
    "#### Exervise 2.2: Create a scatter plot of RM on the x-axis and MEDV on y-axis\n",
    "RM: Average number of rooms per dwelling\n",
    "\n",
    "MEDV: Median value of owner-occupied homes in $1000\\'s\n",
    "\n",
    "Title: Relationship between RM and MEDV"
   ]
  },
  {
   "cell_type": "code",
   "execution_count": null,
   "metadata": {},
   "outputs": [],
   "source": [
    "# ENTER CODE\n"
   ]
  },
  {
   "attachments": {},
   "cell_type": "markdown",
   "metadata": {},
   "source": [
    "#### Exervise 2.2: Create visualization using histogram of Median Value\n",
    "\n",
    "Histogram of MEDV \n",
    "\n",
    "X Label: Median value of owner-occupied homes in $1000\\'s (MEDV)\n",
    "\n",
    "Y Label: Frequency \n",
    "\n",
    "Title: Histogram of MEDV"
   ]
  },
  {
   "cell_type": "code",
   "execution_count": null,
   "metadata": {},
   "outputs": [],
   "source": [
    "# ENTER CODE\n"
   ]
  },
  {
   "attachments": {},
   "cell_type": "markdown",
   "metadata": {},
   "source": [
    "#### Exercise 2.3 Analyzing the relationship between each independent variable and the dependent variable using .corr() and `print(corr_matrix['MEDV'].sort_values(ascending=False))`\n",
    "\n"
   ]
  },
  {
   "cell_type": "code",
   "execution_count": null,
   "metadata": {},
   "outputs": [],
   "source": [
    "# Use .corr() method\n",
    "#corr_matrix = df. \n",
    "print(corr_matrix['MEDV'].sort_values(ascending=False))"
   ]
  },
  {
   "attachments": {},
   "cell_type": "markdown",
   "metadata": {},
   "source": [
    "#### Exercise 2.4 Identifying any outliers of MEDV in the dataset using boxplot(). Add a title 'Boxplot of MEDV'\n"
   ]
  },
  {
   "cell_type": "code",
   "execution_count": null,
   "metadata": {},
   "outputs": [],
   "source": [
    "# ENTER CODE\n"
   ]
  },
  {
   "attachments": {},
   "cell_type": "markdown",
   "metadata": {},
   "source": [
    "#### Exercise 2.5 Identifying any missing values in the dataset and imputing them if necessary. Hint: Use .isnull().sum()\n"
   ]
  },
  {
   "cell_type": "code",
   "execution_count": null,
   "metadata": {},
   "outputs": [],
   "source": [
    "# ENTER CODE\n"
   ]
  },
  {
   "attachments": {},
   "cell_type": "markdown",
   "metadata": {},
   "source": [
    "#### Exercise 2.5 If there are any missing values, you can impute them using pandas. Use the .mean() \n",
    "method"
   ]
  },
  {
   "cell_type": "code",
   "execution_count": null,
   "metadata": {},
   "outputs": [],
   "source": [
    "# ENTER CODE\n"
   ]
  },
  {
   "attachments": {},
   "cell_type": "markdown",
   "metadata": {},
   "source": [
    "#### Exercise 3: Select any dataset from Kaggle. Use Plotly or Seaborn to create at least 5 visualizations that reveal interesting insights about the data.\n",
    "\n",
    "Kaggle: https://www.kaggle.com/datasets"
   ]
  },
  {
   "cell_type": "code",
   "execution_count": null,
   "metadata": {},
   "outputs": [],
   "source": []
  },
  {
   "cell_type": "code",
   "execution_count": null,
   "metadata": {},
   "outputs": [],
   "source": []
  }
 ],
 "metadata": {
  "kernelspec": {
   "display_name": "base",
   "language": "python",
   "name": "python3"
  },
  "language_info": {
   "codemirror_mode": {
    "name": "ipython",
    "version": 3
   },
   "file_extension": ".py",
   "mimetype": "text/x-python",
   "name": "python",
   "nbconvert_exporter": "python",
   "pygments_lexer": "ipython3",
   "version": "3.12.7"
  }
 },
 "nbformat": 4,
 "nbformat_minor": 2
}
